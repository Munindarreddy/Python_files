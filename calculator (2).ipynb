{
 "cells": [
  {
   "cell_type": "code",
   "execution_count": 1,
   "id": "29a1f52a",
   "metadata": {},
   "outputs": [
    {
     "name": "stdout",
     "output_type": "stream",
     "text": [
      "Enter to start c or to off q: c\n",
      "Enter number: 23456\n",
      "Enter symbol +,-,%,/: /\n",
      "Enter number: 345\n",
      "23456/345=67.98840579710145\n",
      "Enter to start c or to off q: c\n",
      "Enter number: 57868\n",
      "Enter symbol +,-,%,/: ds\n",
      "Enter number: 786\n",
      "Invalid entry!!\n",
      "Enter to start c or to off q: q\n"
     ]
    }
   ],
   "source": [
    "x=1\n",
    "while x==1:\n",
    "    off= input(\"Enter to start c or to off q: \")\n",
    "    if off==\"q\":\n",
    "        break\n",
    "    else:\n",
    "        number1 = int(input(\"Enter number: \"))\n",
    "        symbol = input(\"Enter symbol +,-,%,/: \")\n",
    "        number2 = int(input(\"Enter number: \"))\n",
    "        \n",
    "        if symbol==\"+\":\n",
    "            print(\"{}+{}={}\".format(number1,number2,number1+number2))\n",
    "        elif symbol==\"-\":\n",
    "            print(\"{}-{}={}\".format(number1,number2,number1-number2))\n",
    "        elif symbol==\"*\":\n",
    "            print(\"{}*{}={}\".format(number1,number2,number1*number2))\n",
    "        elif symbol==\"%\":\n",
    "            print(\"{}%{}={}\".format(number1,number2,number1%number2))\n",
    "        elif symbol==\"/\":\n",
    "            print(\"{}/{}={}\".format(number1,number2,number1/number2))\n",
    "        else:\n",
    "            print(\"Invalid entry!!\")\n",
    "            "
   ]
  },
  {
   "cell_type": "code",
   "execution_count": null,
   "id": "afa87a22",
   "metadata": {},
   "outputs": [],
   "source": []
  }
 ],
 "metadata": {
  "kernelspec": {
   "display_name": "Python 3 (ipykernel)",
   "language": "python",
   "name": "python3"
  },
  "language_info": {
   "codemirror_mode": {
    "name": "ipython",
    "version": 3
   },
   "file_extension": ".py",
   "mimetype": "text/x-python",
   "name": "python",
   "nbconvert_exporter": "python",
   "pygments_lexer": "ipython3",
   "version": "3.10.9"
  }
 },
 "nbformat": 4,
 "nbformat_minor": 5
}
