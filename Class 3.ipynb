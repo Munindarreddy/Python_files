{
 "cells": [
  {
   "cell_type": "code",
   "execution_count": 9,
   "id": "fef25f9f",
   "metadata": {},
   "outputs": [
    {
     "ename": "SyntaxError",
     "evalue": "Missing parentheses in call to 'print'. Did you mean print(...)? (1990347764.py, line 11)",
     "output_type": "error",
     "traceback": [
      "\u001b[1;36m  Cell \u001b[1;32mIn[9], line 11\u001b[1;36m\u001b[0m\n\u001b[1;33m    print\"{}c\".format(celcius)\u001b[0m\n\u001b[1;37m    ^\u001b[0m\n\u001b[1;31mSyntaxError\u001b[0m\u001b[1;31m:\u001b[0m Missing parentheses in call to 'print'. Did you mean print(...)?\n"
     ]
    }
   ],
   "source": [
    "symbol = input(\"enter temperature in f or c: \")\n",
    "temp = input(\"enter temperture: \")\n",
    "\n",
    "if symbol==\"c\":\n",
    "    temp*(9/5)+32\n",
    "    farah=(\"{}{}\".format(temp,symbol))\n",
    "    print(\"{}f\".format(farah))\n",
    "else:\n",
    "    (temp-32)*5/9\n",
    "    celcius=(\"{}{}\".format(temp.symbol))\n",
    "    print\"{}c\".format(celcius)"
   ]
  },
  {
   "cell_type": "code",
   "execution_count": 13,
   "id": "6950b958",
   "metadata": {},
   "outputs": [
    {
     "name": "stdout",
     "output_type": "stream",
     "text": [
      "enter temperature in f or c: c\n",
      "enter temperture: 24\n"
     ]
    },
    {
     "ename": "TypeError",
     "evalue": "unsupported operand type(s) for /: 'str' and 'int'",
     "output_type": "error",
     "traceback": [
      "\u001b[1;31m---------------------------------------------------------------------------\u001b[0m",
      "\u001b[1;31mTypeError\u001b[0m                                 Traceback (most recent call last)",
      "Cell \u001b[1;32mIn[13], line 5\u001b[0m\n\u001b[0;32m      2\u001b[0m temp \u001b[38;5;241m=\u001b[39m \u001b[38;5;28minput\u001b[39m(\u001b[38;5;124m\"\u001b[39m\u001b[38;5;124menter temperture: \u001b[39m\u001b[38;5;124m\"\u001b[39m)\n\u001b[0;32m      4\u001b[0m \u001b[38;5;28;01mif\u001b[39;00m symbol\u001b[38;5;241m==\u001b[39m\u001b[38;5;124m\"\u001b[39m\u001b[38;5;124mc\u001b[39m\u001b[38;5;124m\"\u001b[39m:\n\u001b[1;32m----> 5\u001b[0m     (\u001b[43mtemp\u001b[49m\u001b[38;5;241;43m*\u001b[39;49m\u001b[38;5;241;43m9\u001b[39;49m\u001b[38;5;241;43m/\u001b[39;49m\u001b[38;5;241;43m5\u001b[39;49m)\u001b[38;5;241m+\u001b[39m\u001b[38;5;241m32\u001b[39m\n\u001b[0;32m      6\u001b[0m     farah\u001b[38;5;241m=\u001b[39m(\u001b[38;5;124m\"\u001b[39m\u001b[38;5;132;01m{}\u001b[39;00m\u001b[38;5;132;01m{}\u001b[39;00m\u001b[38;5;124m\"\u001b[39m\u001b[38;5;241m.\u001b[39mformat(temp,symbol))\n\u001b[0;32m      7\u001b[0m     \u001b[38;5;28mprint\u001b[39m(\u001b[38;5;124m\"\u001b[39m\u001b[38;5;132;01m{}\u001b[39;00m\u001b[38;5;124mf\u001b[39m\u001b[38;5;124m\"\u001b[39m\u001b[38;5;241m.\u001b[39mformat(farah))\n",
      "\u001b[1;31mTypeError\u001b[0m: unsupported operand type(s) for /: 'str' and 'int'"
     ]
    }
   ],
   "source": [
    "symbol = input(\"enter temperature in f or c: \")\n",
    "temp = input(\"enter temperture: \")\n",
    "\n",
    "if symbol==\"c\":\n",
    "    (temp*9/5)+32\n",
    "    farah=(\"{}{}\".format(temp,symbol))\n",
    "    print(\"{}f\".format(farah))\n",
    "else:\n",
    "    (temp-32)*5/9\n",
    "    celcius=(\"{}{}\".format(temp.symbol))\n",
    "    print(\"{}c\".format(celcius))"
   ]
  },
  {
   "cell_type": "code",
   "execution_count": 2,
   "id": "c29f8d30",
   "metadata": {},
   "outputs": [
    {
     "name": "stdout",
     "output_type": "stream",
     "text": [
      "bye\n",
      "hi\n"
     ]
    }
   ],
   "source": [
    "x = 4\n",
    "while x>1:\n",
    "    if x==3:\n",
    "        print(\"hi\")\n",
    "        break\n",
    "    print(\"bye\")\n",
    "    x=x-1"
   ]
  },
  {
   "cell_type": "code",
   "execution_count": 4,
   "id": "9598de1a",
   "metadata": {},
   "outputs": [],
   "source": [
    "x=1\n",
    "while x>=5:\n",
    "    if x==1:\n",
    "        print(\" **** \")\n",
    "    elif x==2 or x==4 or x==5:\n",
    "        print(\"*    *\")\n",
    "    else:\n",
    "        print(\"* * *\")\n",
    "    x-=1\n",
    "        \n"
   ]
  },
  {
   "cell_type": "code",
   "execution_count": null,
   "id": "824381e5",
   "metadata": {},
   "outputs": [],
   "source": []
  }
 ],
 "metadata": {
  "kernelspec": {
   "display_name": "Python 3 (ipykernel)",
   "language": "python",
   "name": "python3"
  },
  "language_info": {
   "codemirror_mode": {
    "name": "ipython",
    "version": 3
   },
   "file_extension": ".py",
   "mimetype": "text/x-python",
   "name": "python",
   "nbconvert_exporter": "python",
   "pygments_lexer": "ipython3",
   "version": "3.10.9"
  }
 },
 "nbformat": 4,
 "nbformat_minor": 5
}
