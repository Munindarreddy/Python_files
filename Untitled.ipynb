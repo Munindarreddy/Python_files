{
 "cells": [
  {
   "cell_type": "code",
   "execution_count": 1,
   "id": "f696e775",
   "metadata": {},
   "outputs": [],
   "source": [
    "var = 123\n",
    "Var = 321"
   ]
  },
  {
   "cell_type": "code",
   "execution_count": 3,
   "id": "adbd5b30",
   "metadata": {},
   "outputs": [
    {
     "data": {
      "text/plain": [
       "int"
      ]
     },
     "execution_count": 3,
     "metadata": {},
     "output_type": "execute_result"
    }
   ],
   "source": [
    "type(var)"
   ]
  },
  {
   "cell_type": "code",
   "execution_count": 31,
   "id": "efdf25dc",
   "metadata": {},
   "outputs": [
    {
     "ename": "TypeError",
     "evalue": "int() argument must be a string, a bytes-like object or a real number, not 'complex'",
     "output_type": "error",
     "traceback": [
      "\u001b[1;31m---------------------------------------------------------------------------\u001b[0m",
      "\u001b[1;31mTypeError\u001b[0m                                 Traceback (most recent call last)",
      "Cell \u001b[1;32mIn[31], line 1\u001b[0m\n\u001b[1;32m----> 1\u001b[0m \u001b[38;5;28;43mint\u001b[39;49m\u001b[43m(\u001b[49m\u001b[38;5;241;43m10\u001b[39;49m\u001b[38;5;241;43m+\u001b[39;49m\u001b[38;5;241;43m2\u001b[39;49m\u001b[43mj\u001b[49m\u001b[43m)\u001b[49m\n",
      "\u001b[1;31mTypeError\u001b[0m: int() argument must be a string, a bytes-like object or a real number, not 'complex'"
     ]
    }
   ],
   "source": [
    "int(10+2j)"
   ]
  },
  {
   "cell_type": "code",
   "execution_count": 5,
   "id": "ced10a24",
   "metadata": {},
   "outputs": [
    {
     "data": {
      "text/plain": [
       "1"
      ]
     },
     "execution_count": 5,
     "metadata": {},
     "output_type": "execute_result"
    }
   ],
   "source": [
    "int(1.1)"
   ]
  },
  {
   "cell_type": "code",
   "execution_count": 9,
   "id": "2b10a8e5",
   "metadata": {},
   "outputs": [
    {
     "data": {
      "text/plain": [
       "20.38"
      ]
     },
     "execution_count": 9,
     "metadata": {},
     "output_type": "execute_result"
    }
   ],
   "source": [
    "float(20.38)"
   ]
  },
  {
   "cell_type": "code",
   "execution_count": 10,
   "id": "66352ff4",
   "metadata": {},
   "outputs": [
    {
     "data": {
      "text/plain": [
       "21.0"
      ]
     },
     "execution_count": 10,
     "metadata": {},
     "output_type": "execute_result"
    }
   ],
   "source": [
    "float(21)"
   ]
  },
  {
   "cell_type": "code",
   "execution_count": 11,
   "id": "ee8416a4",
   "metadata": {},
   "outputs": [
    {
     "data": {
      "text/plain": [
       "(2+2j)"
      ]
     },
     "execution_count": 11,
     "metadata": {},
     "output_type": "execute_result"
    }
   ],
   "source": [
    "complex(2+2j)"
   ]
  },
  {
   "cell_type": "code",
   "execution_count": 29,
   "id": "28176898",
   "metadata": {},
   "outputs": [
    {
     "data": {
      "text/plain": [
       "(2.08+0j)"
      ]
     },
     "execution_count": 29,
     "metadata": {},
     "output_type": "execute_result"
    }
   ],
   "source": [
    "complex(2.08)"
   ]
  },
  {
   "cell_type": "code",
   "execution_count": 13,
   "id": "7c267ecd",
   "metadata": {},
   "outputs": [
    {
     "data": {
      "text/plain": [
       "(2-3j)"
      ]
     },
     "execution_count": 13,
     "metadata": {},
     "output_type": "execute_result"
    }
   ],
   "source": [
    "complex(2-3j)"
   ]
  },
  {
   "cell_type": "code",
   "execution_count": 14,
   "id": "bd2eff86",
   "metadata": {},
   "outputs": [
    {
     "data": {
      "text/plain": [
       "4j"
      ]
     },
     "execution_count": 14,
     "metadata": {},
     "output_type": "execute_result"
    }
   ],
   "source": [
    "complex(2*2j)"
   ]
  },
  {
   "cell_type": "code",
   "execution_count": 15,
   "id": "5b1d635c",
   "metadata": {},
   "outputs": [
    {
     "data": {
      "text/plain": [
       "(2+0j)"
      ]
     },
     "execution_count": 15,
     "metadata": {},
     "output_type": "execute_result"
    }
   ],
   "source": [
    "complex(2)"
   ]
  },
  {
   "cell_type": "code",
   "execution_count": 1,
   "id": "bd2e9c26",
   "metadata": {},
   "outputs": [
    {
     "data": {
      "text/plain": [
       "2"
      ]
     },
     "execution_count": 1,
     "metadata": {},
     "output_type": "execute_result"
    }
   ],
   "source": [
    "int(2)"
   ]
  },
  {
   "cell_type": "code",
   "execution_count": 2,
   "id": "d38b00f0",
   "metadata": {},
   "outputs": [
    {
     "data": {
      "text/plain": [
       "(2+0j)"
      ]
     },
     "execution_count": 2,
     "metadata": {},
     "output_type": "execute_result"
    }
   ],
   "source": [
    "complex(2)"
   ]
  },
  {
   "cell_type": "code",
   "execution_count": 25,
   "id": "51cf5f4f",
   "metadata": {},
   "outputs": [
    {
     "data": {
      "text/plain": [
       "complex"
      ]
     },
     "execution_count": 25,
     "metadata": {},
     "output_type": "execute_result"
    }
   ],
   "source": [
    "type(2+0j)"
   ]
  },
  {
   "cell_type": "code",
   "execution_count": 3,
   "id": "67d6371f",
   "metadata": {},
   "outputs": [],
   "source": [
    "a = 2\n",
    "b = 3"
   ]
  },
  {
   "cell_type": "code",
   "execution_count": 4,
   "id": "29f87dac",
   "metadata": {},
   "outputs": [
    {
     "data": {
      "text/plain": [
       "2397746233616"
      ]
     },
     "execution_count": 4,
     "metadata": {},
     "output_type": "execute_result"
    }
   ],
   "source": [
    "id(2)"
   ]
  },
  {
   "cell_type": "code",
   "execution_count": 5,
   "id": "967b66f4",
   "metadata": {},
   "outputs": [
    {
     "data": {
      "text/plain": [
       "2397746233616"
      ]
     },
     "execution_count": 5,
     "metadata": {},
     "output_type": "execute_result"
    }
   ],
   "source": [
    "id(a)"
   ]
  },
  {
   "cell_type": "code",
   "execution_count": 65,
   "id": "9ea08b05",
   "metadata": {},
   "outputs": [
    {
     "name": "stdout",
     "output_type": "stream",
     "text": [
      "name: molu\n",
      "verb: good\n",
      "feeling: very\n"
     ]
    },
    {
     "data": {
      "text/plain": [
       "'In one village there is a boy named molu. molu always do good things because his mother thought him to do so. one day he was fallen sick. after knowing molu is sick many people came to see him. he felt very lucky.'"
      ]
     },
     "execution_count": 65,
     "metadata": {},
     "output_type": "execute_result"
    }
   ],
   "source": [
    "N = input(\"name: \")\n",
    "AB = input(\"verb: \")\n",
    "AD = input(\"feeling: \")\n",
    "\n",
    "\n",
    "\n",
    "story = (f\"in one village there is a boy named {N}. {N} always do {AB} things because his mother thought him to do so. One day \\\n",
    "he was fallen sick. After knowing {N} is sick many people came to see him. He felt {AD} lucky.\")\n",
    "\n",
    "story.capitalize()\n",
    "\n"
   ]
  },
  {
   "cell_type": "code",
   "execution_count": 12,
   "id": "bd3b484b",
   "metadata": {},
   "outputs": [
    {
     "name": "stdout",
     "output_type": "stream",
     "text": [
      "English: 20\n",
      "Telugu: 30\n"
     ]
    }
   ],
   "source": [
    "#progress card for 10th class\n",
    "eng = input(\"English: \")\n",
    "tel = input(\"Telugu: \")\n",
    "\n"
   ]
  },
  {
   "cell_type": "code",
   "execution_count": 2,
   "id": "e49e0c39",
   "metadata": {},
   "outputs": [
    {
     "data": {
      "text/plain": [
       "False"
      ]
     },
     "execution_count": 2,
     "metadata": {},
     "output_type": "execute_result"
    }
   ],
   "source": [
    "x = \"aBCdef123\"\n",
    "x.startswith(\"A\")"
   ]
  },
  {
   "cell_type": "code",
   "execution_count": 3,
   "id": "b4a35a20",
   "metadata": {},
   "outputs": [
    {
     "data": {
      "text/plain": [
       "True"
      ]
     },
     "execution_count": 3,
     "metadata": {},
     "output_type": "execute_result"
    }
   ],
   "source": [
    "x = \"abcdEFG123\"\n",
    "x.endswith(\"3\")"
   ]
  },
  {
   "cell_type": "code",
   "execution_count": 23,
   "id": "f8a61630",
   "metadata": {},
   "outputs": [],
   "source": [
    "x = \"Python@is@a@high@level@language\""
   ]
  },
  {
   "cell_type": "code",
   "execution_count": 24,
   "id": "65822524",
   "metadata": {},
   "outputs": [
    {
     "data": {
      "text/plain": [
       "False"
      ]
     },
     "execution_count": 24,
     "metadata": {},
     "output_type": "execute_result"
    }
   ],
   "source": [
    "x.isupper()"
   ]
  },
  {
   "cell_type": "code",
   "execution_count": 20,
   "id": "95ecd730",
   "metadata": {},
   "outputs": [],
   "source": [
    "x = \"1,2,3 are real numbers\""
   ]
  },
  {
   "cell_type": "code",
   "execution_count": 21,
   "id": "39d0d286",
   "metadata": {},
   "outputs": [
    {
     "data": {
      "text/plain": [
       "True"
      ]
     },
     "execution_count": 21,
     "metadata": {},
     "output_type": "execute_result"
    }
   ],
   "source": [
    "x.islower( )"
   ]
  },
  {
   "cell_type": "code",
   "execution_count": 18,
   "id": "d36c6506",
   "metadata": {},
   "outputs": [
    {
     "data": {
      "text/plain": [
       "True"
      ]
     },
     "execution_count": 18,
     "metadata": {},
     "output_type": "execute_result"
    }
   ],
   "source": [
    "x.is( )"
   ]
  },
  {
   "cell_type": "code",
   "execution_count": 26,
   "id": "22def5ff",
   "metadata": {},
   "outputs": [
    {
     "data": {
      "text/plain": [
       "False"
      ]
     },
     "execution_count": 26,
     "metadata": {},
     "output_type": "execute_result"
    }
   ],
   "source": [
    "x = \"hello every one. I am Manasa\"\n",
    "x.istitle()"
   ]
  },
  {
   "cell_type": "code",
   "execution_count": 20,
   "id": "fb269e27",
   "metadata": {},
   "outputs": [
    {
     "ename": "SyntaxError",
     "evalue": "f-string: expecting '}' (171969516.py, line 13)",
     "output_type": "error",
     "traceback": [
      "\u001b[1;36m  Cell \u001b[1;32mIn[20], line 13\u001b[1;36m\u001b[0m\n\u001b[1;33m    print(f\"yay, congrats, you have guessed the number { random_number = random.randint(1, x)}\")\u001b[0m\n\u001b[1;37m                                                                                               ^\u001b[0m\n\u001b[1;31mSyntaxError\u001b[0m\u001b[1;31m:\u001b[0m f-string: expecting '}'\n"
     ]
    }
   ],
   "source": [
    "import random\n",
    "def guess(x):\n",
    "   random_number = random.randint(1, x)\n",
    "\n",
    "   guess = 0\n",
    "   while guess != random_number:\n",
    "      guess = int(input(f'Guess a number between 1 and {x}: '))\n",
    "      if guess < random_number :\n",
    "         print(\"sorry, guess again.Too low.\")\n",
    "      elif guess > random_number:\n",
    "         print(\"sorry, guess again. Too high.\")\n",
    "\n",
    "print(f\"yay, congrats, you have guessed the number { random_number = random.randint(1, x)}\")\n",
    "guess(10)"
   ]
  },
  {
   "cell_type": "code",
   "execution_count": 19,
   "id": "2375c14d",
   "metadata": {},
   "outputs": [
    {
     "name": "stdout",
     "output_type": "stream",
     "text": [
      "Guess a number between 1 and 100: 20\n",
      "sorry, guess again. Too low\n",
      "Guess a number between 1 and 100: 50\n",
      "sorry, guess again. Too low\n",
      "Guess a number between 1 and 100: 70\n",
      "sorry, guess again. Too high\n",
      "Guess a number between 1 and 100: 60\n",
      "sorry, guess again. Too high\n",
      "Guess a number between 1 and 100: 55\n",
      "sorry, guess again. Too low\n",
      "Guess a number between 1 and 100: 57\n",
      "sorry, guess again. Too low\n",
      "Guess a number between 1 and 100: 59\n",
      "yay, congrats. You have guessed the number59 correctly!!\n"
     ]
    }
   ],
   "source": [
    "import random\n",
    "\n",
    "def guess(x):\n",
    "    a = random.randint(1, x)\n",
    "    guess = 0\n",
    "    while guess != a:\n",
    "        guess = int(input(f'Guess a number between 1 and {x}: '))\n",
    "        if guess < a:\n",
    "            print('sorry, guess again. Too low')\n",
    "        elif guess > a:\n",
    "            print('sorry, guess again. Too high')\n",
    "    print(f'yay, congrats. You have guessed the number{a} correctly!!') \n",
    "    \n",
    "guess(100)   "
   ]
  },
  {
   "cell_type": "code",
   "execution_count": 21,
   "id": "d599307b",
   "metadata": {},
   "outputs": [
    {
     "name": "stdout",
     "output_type": "stream",
     "text": [
      "Guess a number between 1 and 100: 95\n",
      "sorry, guess again. Too high\n",
      "Guess a number between 1 and 100: 35\n",
      "sorry, guess again. Too low\n",
      "Guess a number between 1 and 100: 53\n",
      "sorry, guess again. Too low\n",
      "Guess a number between 1 and 100: 75\n",
      "sorry, guess again. Too high\n",
      "Guess a number between 1 and 100: 61\n",
      "sorry, guess again. Too high\n",
      "Guess a number between 1 and 100: 55\n",
      "sorry, guess again. Too low\n",
      "Guess a number between 1 and 100: 67\n",
      "sorry, guess again. Too high\n",
      "Guess a number between 1 and 100: 57\n",
      "sorry, guess again. Too high\n",
      "Guess a number between 1 and 100: 59\n",
      "sorry, guess again. Too high\n",
      "Guess a number between 1 and 100: 58\n",
      "sorry, guess again. Too high\n",
      "Guess a number between 1 and 100: 56\n",
      "yay, congrats. You have guessed the number56 correctly!!\n"
     ]
    }
   ],
   "source": [
    "import random\n",
    "\n",
    "def guess(x):\n",
    "    a = random.randint(1, x)\n",
    "    guess = 0\n",
    "    while guess != a:\n",
    "        guess = int(input(f'Guess a number between 1 and {x}: '))\n",
    "        if guess < a:\n",
    "            print('sorry, guess again. Too low')\n",
    "        elif guess > a:\n",
    "            print('sorry, guess again. Too high')\n",
    "    print(f'yay, congrats. You have guessed the number{a} correctly!!') \n",
    "    \n",
    "guess(100)  "
   ]
  },
  {
   "cell_type": "code",
   "execution_count": 1,
   "id": "b4c7ea56",
   "metadata": {},
   "outputs": [],
   "source": [
    "x = \"abc123@\""
   ]
  },
  {
   "cell_type": "code",
   "execution_count": 2,
   "id": "f51a350b",
   "metadata": {},
   "outputs": [
    {
     "data": {
      "text/plain": [
       "False"
      ]
     },
     "execution_count": 2,
     "metadata": {},
     "output_type": "execute_result"
    }
   ],
   "source": [
    "x.isidentifier()"
   ]
  },
  {
   "cell_type": "code",
   "execution_count": 3,
   "id": "121d4cfd",
   "metadata": {},
   "outputs": [],
   "source": [
    "x=\"ab\""
   ]
  },
  {
   "cell_type": "code",
   "execution_count": 5,
   "id": "720575cb",
   "metadata": {},
   "outputs": [
    {
     "data": {
      "text/plain": [
       "'00000000ab'"
      ]
     },
     "execution_count": 5,
     "metadata": {},
     "output_type": "execute_result"
    }
   ],
   "source": [
    "x.zfill(10)"
   ]
  },
  {
   "cell_type": "code",
   "execution_count": 11,
   "id": "108ce6b7",
   "metadata": {},
   "outputs": [
    {
     "data": {
      "text/plain": [
       "'999ab999'"
      ]
     },
     "execution_count": 11,
     "metadata": {},
     "output_type": "execute_result"
    }
   ],
   "source": [
    "x.center(8,\"9\")"
   ]
  },
  {
   "cell_type": "code",
   "execution_count": 12,
   "id": "944b0649",
   "metadata": {},
   "outputs": [
    {
     "data": {
      "text/plain": [
       "'   ab   '"
      ]
     },
     "execution_count": 12,
     "metadata": {},
     "output_type": "execute_result"
    }
   ],
   "source": [
    "x.center(8)"
   ]
  },
  {
   "cell_type": "code",
   "execution_count": 13,
   "id": "863b1274",
   "metadata": {},
   "outputs": [],
   "source": [
    "x = (\"123\")"
   ]
  },
  {
   "cell_type": "code",
   "execution_count": 15,
   "id": "f032affa",
   "metadata": {},
   "outputs": [
    {
     "data": {
      "text/plain": [
       "'123'"
      ]
     },
     "execution_count": 15,
     "metadata": {},
     "output_type": "execute_result"
    }
   ],
   "source": [
    "str(x)"
   ]
  },
  {
   "cell_type": "code",
   "execution_count": 16,
   "id": "c9098707",
   "metadata": {},
   "outputs": [
    {
     "data": {
      "text/plain": [
       "'1.2 2.3'"
      ]
     },
     "execution_count": 16,
     "metadata": {},
     "output_type": "execute_result"
    }
   ],
   "source": [
    "x=(\"1.2 2.3\")\n",
    "str(x)"
   ]
  },
  {
   "cell_type": "code",
   "execution_count": 17,
   "id": "087193af",
   "metadata": {},
   "outputs": [],
   "source": [
    "x= (2, 2+3j)"
   ]
  },
  {
   "cell_type": "code",
   "execution_count": 18,
   "id": "e163ba97",
   "metadata": {},
   "outputs": [
    {
     "data": {
      "text/plain": [
       "'(2, (2+3j))'"
      ]
     },
     "execution_count": 18,
     "metadata": {},
     "output_type": "execute_result"
    }
   ],
   "source": [
    "str(x)"
   ]
  },
  {
   "cell_type": "code",
   "execution_count": 22,
   "id": "78b8051e",
   "metadata": {},
   "outputs": [
    {
     "data": {
      "text/plain": [
       "2.3"
      ]
     },
     "execution_count": 22,
     "metadata": {},
     "output_type": "execute_result"
    }
   ],
   "source": [
    "x = (\"2.3\")\n",
    "float(x)"
   ]
  },
  {
   "cell_type": "code",
   "execution_count": 27,
   "id": "7f3d5ccc",
   "metadata": {},
   "outputs": [
    {
     "name": "stdout",
     "output_type": "stream",
     "text": [
      "My name is: Manasa\n",
      "My age is: 26\n",
      "My phone number is: 234\n",
      "My height is: 5.6\n",
      "My weight is: 55\n"
     ]
    }
   ],
   "source": [
    "Name = input(\"My name is: \")\n",
    "age = int(input(\"My age is: \"))\n",
    "ph_no = int(input(\"My phone number is: \"))\n",
    "height= float(input(\"My height is: \"))\n",
    "weight = int(input(\"My weight is: \"))"
   ]
  },
  {
   "cell_type": "code",
   "execution_count": 28,
   "id": "e7fa15d2",
   "metadata": {},
   "outputs": [
    {
     "data": {
      "text/plain": [
       "'My name is Manasa.My age is 26.My phone number 234.My hieght is 5.6. My weight is 55.'"
      ]
     },
     "execution_count": 28,
     "metadata": {},
     "output_type": "execute_result"
    }
   ],
   "source": [
    "\"My name is {}.My age is {}.My phone number {}.My hieght is {}. My weight is {}.\".format(Name,age,ph_no,height,weight)\n",
    "                       "
   ]
  },
  {
   "cell_type": "code",
   "execution_count": 30,
   "id": "9d4cd262",
   "metadata": {},
   "outputs": [
    {
     "name": "stdout",
     "output_type": "stream",
     "text": [
      "sum of x+y: 30\n",
      "subtraction of x and y : 10\n",
      "multiplication of x and y: 200\n",
      "sum of x+y is {}\n"
     ]
    },
    {
     "ename": "AttributeError",
     "evalue": "'NoneType' object has no attribute 'format'",
     "output_type": "error",
     "traceback": [
      "\u001b[1;31m---------------------------------------------------------------------------\u001b[0m",
      "\u001b[1;31mAttributeError\u001b[0m                            Traceback (most recent call last)",
      "Cell \u001b[1;32mIn[30], line 7\u001b[0m\n\u001b[0;32m      4\u001b[0m sub \u001b[38;5;241m=\u001b[39m \u001b[38;5;28minput\u001b[39m(\u001b[38;5;124m\"\u001b[39m\u001b[38;5;124msubtraction of x and y : \u001b[39m\u001b[38;5;124m\"\u001b[39m)\n\u001b[0;32m      5\u001b[0m multi \u001b[38;5;241m=\u001b[39m \u001b[38;5;28minput\u001b[39m(\u001b[38;5;124m\"\u001b[39m\u001b[38;5;124mmultiplication of x and y: \u001b[39m\u001b[38;5;124m\"\u001b[39m)\n\u001b[1;32m----> 7\u001b[0m \u001b[38;5;28;43mprint\u001b[39;49m\u001b[43m(\u001b[49m\u001b[38;5;124;43m\"\u001b[39;49m\u001b[38;5;124;43msum of x+y is \u001b[39;49m\u001b[38;5;132;43;01m{}\u001b[39;49;00m\u001b[38;5;124;43m\"\u001b[39;49m\u001b[43m)\u001b[49m\u001b[38;5;241;43m.\u001b[39;49m\u001b[43mformat\u001b[49m(add)\n",
      "\u001b[1;31mAttributeError\u001b[0m: 'NoneType' object has no attribute 'format'"
     ]
    }
   ],
   "source": [
    "x = 20\n",
    "y = 10\n",
    "add = input(\"sum of x+y: \")\n",
    "sub = input(\"subtraction of x and y : \")\n",
    "multi = input(\"multiplication of x and y: \")\n",
    "\n",
    "print(\"sum of x+y is {}\").format(add)"
   ]
  },
  {
   "cell_type": "code",
   "execution_count": null,
   "id": "789d2bf3",
   "metadata": {},
   "outputs": [],
   "source": [
    "x = int(input(\"enter your number: \"))\n",
    "y = int(input(\"enter your number: \"))\n",
    "print(\"sum of x and y is {}.\".format(x+y))\n",
    "print(\"sub of x and y id {}.\".format(x-y))\n",
    "              "
   ]
  },
  {
   "cell_type": "code",
   "execution_count": 42,
   "id": "14c1a8b8",
   "metadata": {},
   "outputs": [
    {
     "data": {
      "text/plain": [
       "'AbCdEf'"
      ]
     },
     "execution_count": 42,
     "metadata": {},
     "output_type": "execute_result"
    }
   ],
   "source": [
    "var1 = \"aBcDeF\"\n",
    "var1[0].upper()+var1[1].lower()+var1[2].upper()+var1[3].lower()+var1[4].upper()+var1[5].lower()"
   ]
  },
  {
   "cell_type": "code",
   "execution_count": 43,
   "id": "9e98a273",
   "metadata": {},
   "outputs": [
    {
     "ename": "SyntaxError",
     "evalue": "unterminated string literal (detected at line 1) (334728829.py, line 1)",
     "output_type": "error",
     "traceback": [
      "\u001b[1;36m  Cell \u001b[1;32mIn[43], line 1\u001b[1;36m\u001b[0m\n\u001b[1;33m    \"\\\"\u001b[0m\n\u001b[1;37m    ^\u001b[0m\n\u001b[1;31mSyntaxError\u001b[0m\u001b[1;31m:\u001b[0m unterminated string literal (detected at line 1)\n"
     ]
    }
   ],
   "source": [
    "\"\\\""
   ]
  },
  {
   "cell_type": "code",
   "execution_count": 53,
   "id": "b82d8e9c",
   "metadata": {},
   "outputs": [],
   "source": []
  },
  {
   "cell_type": "code",
   "execution_count": 60,
   "id": "f3c7bcc1",
   "metadata": {},
   "outputs": [
    {
     "ename": "SyntaxError",
     "evalue": "unexpected character after line continuation character (19701698.py, line 1)",
     "output_type": "error",
     "traceback": [
      "\u001b[1;36m  Cell \u001b[1;32mIn[60], line 1\u001b[1;36m\u001b[0m\n\u001b[1;33m    ord(\\t)\u001b[0m\n\u001b[1;37m         ^\u001b[0m\n\u001b[1;31mSyntaxError\u001b[0m\u001b[1;31m:\u001b[0m unexpected character after line continuation character\n"
     ]
    }
   ],
   "source": []
  },
  {
   "cell_type": "code",
   "execution_count": 66,
   "id": "2a5e81e5",
   "metadata": {},
   "outputs": [
    {
     "name": "stdout",
     "output_type": "stream",
     "text": [
      "['hello ', 'World']\n"
     ]
    }
   ],
   "source": [
    "string = \"hello \\tWorld\"\n",
    "tab_count = string.split(\"\\t\")\n",
    "print(tab_count)"
   ]
  },
  {
   "cell_type": "code",
   "execution_count": 68,
   "id": "33f66225",
   "metadata": {},
   "outputs": [
    {
     "data": {
      "text/plain": [
       "True"
      ]
     },
     "execution_count": 68,
     "metadata": {},
     "output_type": "execute_result"
    }
   ],
   "source": [
    "x = \"123\"\n",
    "bool(x)"
   ]
  },
  {
   "cell_type": "code",
   "execution_count": null,
   "id": "dae67d82",
   "metadata": {},
   "outputs": [],
   "source": [
    "y =0\n",
    "y1 =0.0\n",
    "y2 =0+0j\n"
   ]
  },
  {
   "cell_type": "code",
   "execution_count": null,
   "id": "c844c54f",
   "metadata": {},
   "outputs": [],
   "source": [
    "bool(y1)"
   ]
  },
  {
   "cell_type": "code",
   "execution_count": null,
   "id": "0f649f09",
   "metadata": {},
   "outputs": [],
   "source": [
    "bool(y1)"
   ]
  },
  {
   "cell_type": "code",
   "execution_count": 77,
   "id": "6dbac53c",
   "metadata": {},
   "outputs": [
    {
     "data": {
      "text/plain": [
       "False"
      ]
     },
     "execution_count": 77,
     "metadata": {},
     "output_type": "execute_result"
    }
   ],
   "source": [
    "bool()"
   ]
  },
  {
   "cell_type": "code",
   "execution_count": 78,
   "id": "19126b36",
   "metadata": {},
   "outputs": [
    {
     "data": {
      "text/plain": [
       "False"
      ]
     },
     "execution_count": 78,
     "metadata": {},
     "output_type": "execute_result"
    }
   ],
   "source": [
    "y=0\n",
    "bool(y)"
   ]
  },
  {
   "cell_type": "code",
   "execution_count": 79,
   "id": "638f6acb",
   "metadata": {},
   "outputs": [
    {
     "data": {
      "text/plain": [
       "4.5"
      ]
     },
     "execution_count": 79,
     "metadata": {},
     "output_type": "execute_result"
    }
   ],
   "source": [
    "9/2"
   ]
  },
  {
   "cell_type": "code",
   "execution_count": 80,
   "id": "5e06eb96",
   "metadata": {},
   "outputs": [
    {
     "data": {
      "text/plain": [
       "4"
      ]
     },
     "execution_count": 80,
     "metadata": {},
     "output_type": "execute_result"
    }
   ],
   "source": [
    "9//2"
   ]
  },
  {
   "cell_type": "code",
   "execution_count": 84,
   "id": "ae8ac7d3",
   "metadata": {},
   "outputs": [
    {
     "data": {
      "text/plain": [
       "32"
      ]
     },
     "execution_count": 84,
     "metadata": {},
     "output_type": "execute_result"
    }
   ],
   "source": [
    "2**5"
   ]
  },
  {
   "cell_type": "markdown",
   "id": "9101d20a",
   "metadata": {},
   "source": [
    "2*@"
   ]
  },
  {
   "cell_type": "code",
   "execution_count": 85,
   "id": "4a8b3109",
   "metadata": {},
   "outputs": [
    {
     "data": {
      "text/plain": [
       "4"
      ]
     },
     "execution_count": 85,
     "metadata": {},
     "output_type": "execute_result"
    }
   ],
   "source": [
    "2*2"
   ]
  },
  {
   "cell_type": "code",
   "execution_count": 97,
   "id": "a94b8250",
   "metadata": {},
   "outputs": [
    {
     "name": "stdout",
     "output_type": "stream",
     "text": [
      "Enter your number: 20\n",
      "Enter your number: 4\n",
      " a+b is 20 and 4 = 24\n",
      " a-b is 20 and 4 = 16\n",
      " a*b is 20 and 4 = 80\n",
      " a/b is 20 and 4 = 5.0\n",
      " a%b is 20 and 4 = 0\n",
      " a//b is 20 and 4 = 5\n"
     ]
    }
   ],
   "source": [
    "a = int(input(\"Enter your number: \"))\n",
    "b = int(input(\"Enter your number: \"))\n",
    "print(\" a+b is {0} and {1} = {2}\".format(a,b,a+b))\n",
    "print(\" a-b is {0} and {1} = {2}\".format(a,b,a-b))\n",
    "print(\" a*b is {0} and {1} = {2}\".format(a,b,a*b))\n",
    "print(\" a/b is {0} and {1} = {2}\".format(a,b,a/b))\n",
    "print(\" a%b is {0} and {1} = {2}\".format(a,b,a%b))\n",
    "print(\" a//b is {0} and {1} = {2}\".format(a,b,a//b))\n",
    "\n",
    "\n"
   ]
  },
  {
   "cell_type": "code",
   "execution_count": 92,
   "id": "8983a9f7",
   "metadata": {},
   "outputs": [],
   "source": [
    "x=10\n",
    "x=x+10\n"
   ]
  },
  {
   "cell_type": "code",
   "execution_count": 93,
   "id": "08666509",
   "metadata": {},
   "outputs": [
    {
     "data": {
      "text/plain": [
       "20"
      ]
     },
     "execution_count": 93,
     "metadata": {},
     "output_type": "execute_result"
    }
   ],
   "source": [
    "x"
   ]
  },
  {
   "cell_type": "code",
   "execution_count": 94,
   "id": "4966a695",
   "metadata": {},
   "outputs": [],
   "source": [
    "x+=10"
   ]
  },
  {
   "cell_type": "code",
   "execution_count": 95,
   "id": "0c45176e",
   "metadata": {},
   "outputs": [
    {
     "data": {
      "text/plain": [
       "30"
      ]
     },
     "execution_count": 95,
     "metadata": {},
     "output_type": "execute_result"
    }
   ],
   "source": [
    "x"
   ]
  },
  {
   "cell_type": "code",
   "execution_count": 98,
   "id": "c4e0523f",
   "metadata": {},
   "outputs": [
    {
     "data": {
      "text/plain": [
       "False"
      ]
     },
     "execution_count": 98,
     "metadata": {},
     "output_type": "execute_result"
    }
   ],
   "source": [
    "10>4 and 10<=1"
   ]
  },
  {
   "cell_type": "code",
   "execution_count": 99,
   "id": "bd1f55a7",
   "metadata": {},
   "outputs": [
    {
     "data": {
      "text/plain": [
       "True"
      ]
     },
     "execution_count": 99,
     "metadata": {},
     "output_type": "execute_result"
    }
   ],
   "source": [
    "10>4 or 10<=1"
   ]
  },
  {
   "cell_type": "code",
   "execution_count": 100,
   "id": "018dcedd",
   "metadata": {},
   "outputs": [
    {
     "data": {
      "text/plain": [
       "False"
      ]
     },
     "execution_count": 100,
     "metadata": {},
     "output_type": "execute_result"
    }
   ],
   "source": [
    "not(10>4 or 10<=1)"
   ]
  },
  {
   "cell_type": "code",
   "execution_count": 101,
   "id": "ed4c8b0c",
   "metadata": {},
   "outputs": [
    {
     "data": {
      "text/plain": [
       "True"
      ]
     },
     "execution_count": 101,
     "metadata": {},
     "output_type": "execute_result"
    }
   ],
   "source": [
    "not(10>4 and 10<=1)"
   ]
  },
  {
   "cell_type": "code",
   "execution_count": 104,
   "id": "d66e5bb6",
   "metadata": {},
   "outputs": [
    {
     "data": {
      "text/plain": [
       "True"
      ]
     },
     "execution_count": 104,
     "metadata": {},
     "output_type": "execute_result"
    }
   ],
   "source": [
    "10%5==0 and 2/1==2"
   ]
  },
  {
   "cell_type": "code",
   "execution_count": 105,
   "id": "f06202ac",
   "metadata": {},
   "outputs": [
    {
     "data": {
      "text/plain": [
       "True"
      ]
     },
     "execution_count": 105,
     "metadata": {},
     "output_type": "execute_result"
    }
   ],
   "source": [
    "x= [1,2,3]\n",
    "y = [1,2,3]\n",
    "x ==y"
   ]
  },
  {
   "cell_type": "code",
   "execution_count": 112,
   "id": "fd6c0880",
   "metadata": {},
   "outputs": [
    {
     "data": {
      "text/plain": [
       "True"
      ]
     },
     "execution_count": 112,
     "metadata": {},
     "output_type": "execute_result"
    }
   ],
   "source": [
    "x is y"
   ]
  },
  {
   "cell_type": "code",
   "execution_count": 115,
   "id": "683aa5d3",
   "metadata": {},
   "outputs": [
    {
     "data": {
      "text/plain": [
       "2267827051696"
      ]
     },
     "execution_count": 115,
     "metadata": {},
     "output_type": "execute_result"
    }
   ],
   "source": [
    "id(x)"
   ]
  },
  {
   "cell_type": "code",
   "execution_count": 116,
   "id": "99c79d80",
   "metadata": {},
   "outputs": [
    {
     "data": {
      "text/plain": [
       "2267827051696"
      ]
     },
     "execution_count": 116,
     "metadata": {},
     "output_type": "execute_result"
    }
   ],
   "source": [
    "id(y)"
   ]
  },
  {
   "cell_type": "code",
   "execution_count": 114,
   "id": "7c94c426",
   "metadata": {},
   "outputs": [
    {
     "data": {
      "text/plain": [
       "False"
      ]
     },
     "execution_count": 114,
     "metadata": {},
     "output_type": "execute_result"
    }
   ],
   "source": [
    "x is not y"
   ]
  },
  {
   "cell_type": "code",
   "execution_count": null,
   "id": "0e1dd578",
   "metadata": {},
   "outputs": [],
   "source": []
  },
  {
   "cell_type": "code",
   "execution_count": 108,
   "id": "6eaf9277",
   "metadata": {},
   "outputs": [
    {
     "data": {
      "text/plain": [
       "True"
      ]
     },
     "execution_count": 108,
     "metadata": {},
     "output_type": "execute_result"
    }
   ],
   "source": [
    "x = \"abc\"\n",
    "y = \"abc\"\n",
    "x==y"
   ]
  },
  {
   "cell_type": "code",
   "execution_count": 109,
   "id": "21aa026d",
   "metadata": {},
   "outputs": [
    {
     "data": {
      "text/plain": [
       "True"
      ]
     },
     "execution_count": 109,
     "metadata": {},
     "output_type": "execute_result"
    }
   ],
   "source": [
    "x is y"
   ]
  },
  {
   "cell_type": "code",
   "execution_count": 110,
   "id": "c5b70e84",
   "metadata": {},
   "outputs": [
    {
     "data": {
      "text/plain": [
       "2267827051696"
      ]
     },
     "execution_count": 110,
     "metadata": {},
     "output_type": "execute_result"
    }
   ],
   "source": [
    "id(x)"
   ]
  },
  {
   "cell_type": "code",
   "execution_count": 111,
   "id": "54e74b07",
   "metadata": {},
   "outputs": [
    {
     "data": {
      "text/plain": [
       "2267827051696"
      ]
     },
     "execution_count": 111,
     "metadata": {},
     "output_type": "execute_result"
    }
   ],
   "source": [
    "id(y)"
   ]
  },
  {
   "cell_type": "code",
   "execution_count": 8,
   "id": "71919d86",
   "metadata": {},
   "outputs": [],
   "source": [
    "x=2\n",
    "x=x+5"
   ]
  },
  {
   "cell_type": "code",
   "execution_count": 10,
   "id": "8be4d9dc",
   "metadata": {},
   "outputs": [
    {
     "data": {
      "text/plain": [
       "7"
      ]
     },
     "execution_count": 10,
     "metadata": {},
     "output_type": "execute_result"
    }
   ],
   "source": [
    "x"
   ]
  },
  {
   "cell_type": "code",
   "execution_count": 11,
   "id": "3c511344",
   "metadata": {},
   "outputs": [],
   "source": [
    "x+=3"
   ]
  },
  {
   "cell_type": "code",
   "execution_count": 12,
   "id": "950ba469",
   "metadata": {},
   "outputs": [
    {
     "data": {
      "text/plain": [
       "10"
      ]
     },
     "execution_count": 12,
     "metadata": {},
     "output_type": "execute_result"
    }
   ],
   "source": [
    "x"
   ]
  },
  {
   "cell_type": "code",
   "execution_count": 21,
   "id": "cc621eeb",
   "metadata": {},
   "outputs": [
    {
     "ename": "SyntaxError",
     "evalue": "invalid syntax. Perhaps you forgot a comma? (2839363174.py, line 4)",
     "output_type": "error",
     "traceback": [
      "\u001b[1;36m  Cell \u001b[1;32mIn[21], line 4\u001b[1;36m\u001b[0m\n\u001b[1;33m    mail2.split(\"@gmail.com\")[0] sep=\",\")\u001b[0m\n\u001b[1;37m    ^\u001b[0m\n\u001b[1;31mSyntaxError\u001b[0m\u001b[1;31m:\u001b[0m invalid syntax. Perhaps you forgot a comma?\n"
     ]
    }
   ],
   "source": [
    " mail2 = \"xyz96@gmail.com\"\n",
    "mail3= \"abc96@gmail.com\"\n",
    "print(mail2.split(\"@gmail.com\")[0])\n",
    "print(mail3.split(\"@gmail.com\")[0])\n"
   ]
  },
  {
   "cell_type": "code",
   "execution_count": 24,
   "id": "ad340682",
   "metadata": {},
   "outputs": [
    {
     "ename": "SyntaxError",
     "evalue": "cannot assign to expression (1625144312.py, line 1)",
     "output_type": "error",
     "traceback": [
      "\u001b[1;36m  Cell \u001b[1;32mIn[24], line 1\u001b[1;36m\u001b[0m\n\u001b[1;33m    mail = \"xyz96@gmail.com\"+\",\"+ mail2 = \"abc96@gmail.com\"+\",\"+mail3 = \"jack12@gmail.com\"\u001b[0m\n\u001b[1;37m           ^\u001b[0m\n\u001b[1;31mSyntaxError\u001b[0m\u001b[1;31m:\u001b[0m cannot assign to expression\n"
     ]
    }
   ],
   "source": [
    "mail = \"xyz96@gmail.com\"+\",\"+ mail2 = \"abc96@gmail.com\"+\",\"+mail3 = \"jack12@gmail.com\"\n"
   ]
  },
  {
   "cell_type": "code",
   "execution_count": 1,
   "id": "1cc77f07",
   "metadata": {},
   "outputs": [
    {
     "name": "stdout",
     "output_type": "stream",
     "text": [
      "['xyz96', '']\n",
      "['abc96', '']\n",
      "['jack12', '']\n"
     ]
    }
   ],
   "source": [
    "mail = \"xyz96@gmail.com\"\n",
    "mail2 = \"abc96@gmail.com\"\n",
    "mail3 = \"jack12@gmail.com\"\n",
    "print(mail.split(\"@gmail.com\")) \n",
    "print(mail2.split(\"@gmail.com\"))\n",
    "print(mail3.split(\"@gmail.com\"))"
   ]
  },
  {
   "cell_type": "code",
   "execution_count": 13,
   "id": "af03fbc7",
   "metadata": {},
   "outputs": [
    {
     "data": {
      "text/plain": [
       "30"
      ]
     },
     "execution_count": 13,
     "metadata": {},
     "output_type": "execute_result"
    }
   ],
   "source": [
    "x=10\n",
    "x =x+20\n",
    "x"
   ]
  },
  {
   "cell_type": "code",
   "execution_count": 14,
   "id": "f933faa2",
   "metadata": {},
   "outputs": [],
   "source": [
    "x*=20"
   ]
  },
  {
   "cell_type": "code",
   "execution_count": 15,
   "id": "a05ae1e2",
   "metadata": {},
   "outputs": [
    {
     "data": {
      "text/plain": [
       "600"
      ]
     },
     "execution_count": 15,
     "metadata": {},
     "output_type": "execute_result"
    }
   ],
   "source": [
    "x"
   ]
  },
  {
   "cell_type": "code",
   "execution_count": 16,
   "id": "ad85ae1f",
   "metadata": {},
   "outputs": [
    {
     "data": {
      "text/plain": [
       "True"
      ]
     },
     "execution_count": 16,
     "metadata": {},
     "output_type": "execute_result"
    }
   ],
   "source": [
    "x=20\n",
    "y=30\n",
    "x<=y"
   ]
  },
  {
   "cell_type": "code",
   "execution_count": 17,
   "id": "92a7deb2",
   "metadata": {},
   "outputs": [
    {
     "data": {
      "text/plain": [
       "False"
      ]
     },
     "execution_count": 17,
     "metadata": {},
     "output_type": "execute_result"
    }
   ],
   "source": [
    "x>=y"
   ]
  },
  {
   "cell_type": "code",
   "execution_count": null,
   "id": "baef9183",
   "metadata": {},
   "outputs": [],
   "source": []
  }
 ],
 "metadata": {
  "kernelspec": {
   "display_name": "Python 3 (ipykernel)",
   "language": "python",
   "name": "python3"
  },
  "language_info": {
   "codemirror_mode": {
    "name": "ipython",
    "version": 3
   },
   "file_extension": ".py",
   "mimetype": "text/x-python",
   "name": "python",
   "nbconvert_exporter": "python",
   "pygments_lexer": "ipython3",
   "version": "3.10.9"
  }
 },
 "nbformat": 4,
 "nbformat_minor": 5
}
