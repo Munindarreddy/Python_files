{
 "cells": [
  {
   "cell_type": "code",
   "execution_count": 1,
   "id": "6f4c0abc",
   "metadata": {},
   "outputs": [],
   "source": [
    "# tuple\n",
    "# tuples are immutable\n",
    "\n",
    "z=(1,2,3,4,5,6)"
   ]
  },
  {
   "cell_type": "code",
   "execution_count": 2,
   "id": "33945b12",
   "metadata": {},
   "outputs": [
    {
     "data": {
      "text/plain": [
       "0"
      ]
     },
     "execution_count": 2,
     "metadata": {},
     "output_type": "execute_result"
    }
   ],
   "source": [
    "z.index(1)"
   ]
  },
  {
   "cell_type": "code",
   "execution_count": 3,
   "id": "c48c65ff",
   "metadata": {},
   "outputs": [
    {
     "data": {
      "text/plain": [
       "1"
      ]
     },
     "execution_count": 3,
     "metadata": {},
     "output_type": "execute_result"
    }
   ],
   "source": [
    "z.count(3)"
   ]
  },
  {
   "cell_type": "code",
   "execution_count": 4,
   "id": "3aa19055",
   "metadata": {},
   "outputs": [],
   "source": [
    "#cancatination and duplication"
   ]
  },
  {
   "cell_type": "code",
   "execution_count": null,
   "id": "540407d0",
   "metadata": {},
   "outputs": [],
   "source": [
    "#sets\n",
    "\n",
    "\"\"\"\"\"\"1. sets are collection data types \n",
    "2. inside a set elements do not have index value.\n",
    "3.sets are an ordered.\n",
    "4.sets are seqential data type\n",
    "5.sets will not allow duplicate elements.\n",
    "6.sets are unchangable.(we can add, delete)\"\"\"\"\"\""
   ]
  },
  {
   "cell_type": "code",
   "execution_count": 14,
   "id": "cac13dae",
   "metadata": {},
   "outputs": [],
   "source": [
    "s={1,2,3,4,\"abc\"}"
   ]
  },
  {
   "cell_type": "code",
   "execution_count": 15,
   "id": "ef5f9ae1",
   "metadata": {},
   "outputs": [],
   "source": [
    "s.add(\"A\")"
   ]
  },
  {
   "cell_type": "code",
   "execution_count": 16,
   "id": "0a714885",
   "metadata": {},
   "outputs": [
    {
     "data": {
      "text/plain": [
       "{1, 2, 3, 4, 'A', 'abc'}"
      ]
     },
     "execution_count": 16,
     "metadata": {},
     "output_type": "execute_result"
    }
   ],
   "source": [
    "s"
   ]
  },
  {
   "cell_type": "code",
   "execution_count": 18,
   "id": "19c73ecc",
   "metadata": {},
   "outputs": [],
   "source": [
    "s.update({\"aaa\", \"bbb\",\"ccc\",\"abcd\"})"
   ]
  },
  {
   "cell_type": "code",
   "execution_count": 19,
   "id": "91161195",
   "metadata": {},
   "outputs": [
    {
     "data": {
      "text/plain": [
       "{1, 2, 3, 4, 'A', 'aaa', 'abc', 'abcd', 'bbb', 'ccc'}"
      ]
     },
     "execution_count": 19,
     "metadata": {},
     "output_type": "execute_result"
    }
   ],
   "source": [
    "s"
   ]
  },
  {
   "cell_type": "code",
   "execution_count": 20,
   "id": "49c8ae59",
   "metadata": {},
   "outputs": [
    {
     "name": "stdout",
     "output_type": "stream",
     "text": [
      "A\n",
      "1\n",
      "2\n",
      "3\n",
      "4\n",
      "abc\n",
      "aaa\n",
      "bbb\n",
      "ccc\n",
      "abcd\n"
     ]
    }
   ],
   "source": [
    "for y in s:\n",
    "    print(y)"
   ]
  },
  {
   "cell_type": "code",
   "execution_count": 21,
   "id": "419bfb45",
   "metadata": {},
   "outputs": [
    {
     "data": {
      "text/plain": [
       "{1, 2, 3, 4, 'A', 'aaa', 'abc', 'abcd', 'bbb', 'ccc'}"
      ]
     },
     "execution_count": 21,
     "metadata": {},
     "output_type": "execute_result"
    }
   ],
   "source": [
    "s"
   ]
  },
  {
   "cell_type": "code",
   "execution_count": 22,
   "id": "791945e7",
   "metadata": {},
   "outputs": [],
   "source": [
    "s.remove(\"A\")"
   ]
  },
  {
   "cell_type": "code",
   "execution_count": 25,
   "id": "55709bd4",
   "metadata": {},
   "outputs": [
    {
     "data": {
      "text/plain": [
       "{1, 2, 3, 4, 'aaa', 'abc', 'abcd', 'bbb', 'ccc'}"
      ]
     },
     "execution_count": 25,
     "metadata": {},
     "output_type": "execute_result"
    }
   ],
   "source": [
    "s"
   ]
  },
  {
   "cell_type": "code",
   "execution_count": 27,
   "id": "94a6206d",
   "metadata": {},
   "outputs": [],
   "source": [
    "s.discard(\"aaa\")"
   ]
  },
  {
   "cell_type": "code",
   "execution_count": 28,
   "id": "4af44ec1",
   "metadata": {},
   "outputs": [
    {
     "data": {
      "text/plain": [
       "{1, 2, 3, 4, 'abc', 'abcd', 'bbb', 'ccc'}"
      ]
     },
     "execution_count": 28,
     "metadata": {},
     "output_type": "execute_result"
    }
   ],
   "source": [
    "s"
   ]
  },
  {
   "cell_type": "code",
   "execution_count": 29,
   "id": "ff1b14b8",
   "metadata": {},
   "outputs": [],
   "source": [
    "t=s"
   ]
  },
  {
   "cell_type": "code",
   "execution_count": 30,
   "id": "a718d862",
   "metadata": {},
   "outputs": [],
   "source": [
    "q=s.copy()"
   ]
  },
  {
   "cell_type": "code",
   "execution_count": 31,
   "id": "90b06caf",
   "metadata": {},
   "outputs": [
    {
     "data": {
      "text/plain": [
       "{1, 2, 3, 4, 'abc', 'abcd', 'bbb', 'ccc'}"
      ]
     },
     "execution_count": 31,
     "metadata": {},
     "output_type": "execute_result"
    }
   ],
   "source": [
    "q"
   ]
  },
  {
   "cell_type": "code",
   "execution_count": 32,
   "id": "ebd36814",
   "metadata": {},
   "outputs": [
    {
     "data": {
      "text/plain": [
       "{1, 2, 3, 4, 5, 6, 7}"
      ]
     },
     "execution_count": 32,
     "metadata": {},
     "output_type": "execute_result"
    }
   ],
   "source": [
    "s1={1,2,3,4,5}\n",
    "s2={5,6,7,1,2}\n",
    "s1.union(s2)"
   ]
  },
  {
   "cell_type": "code",
   "execution_count": 33,
   "id": "f8d5aba3",
   "metadata": {},
   "outputs": [
    {
     "data": {
      "text/plain": [
       "{1, 2, 5}"
      ]
     },
     "execution_count": 33,
     "metadata": {},
     "output_type": "execute_result"
    }
   ],
   "source": [
    "s1.intersection(s2)"
   ]
  },
  {
   "cell_type": "code",
   "execution_count": 34,
   "id": "ba4f6c95",
   "metadata": {},
   "outputs": [],
   "source": [
    "s1.intersection_update(s2)"
   ]
  },
  {
   "cell_type": "code",
   "execution_count": 35,
   "id": "48f4818f",
   "metadata": {},
   "outputs": [
    {
     "data": {
      "text/plain": [
       "{1, 2, 5}"
      ]
     },
     "execution_count": 35,
     "metadata": {},
     "output_type": "execute_result"
    }
   ],
   "source": [
    "s1"
   ]
  },
  {
   "cell_type": "code",
   "execution_count": 36,
   "id": "2209e0fe",
   "metadata": {},
   "outputs": [
    {
     "data": {
      "text/plain": [
       "{3, 4}"
      ]
     },
     "execution_count": 36,
     "metadata": {},
     "output_type": "execute_result"
    }
   ],
   "source": [
    "s1={1,2,3,4,5}\n",
    "s2={5,6,7,1,2}\n",
    "s1.difference(s2)"
   ]
  },
  {
   "cell_type": "code",
   "execution_count": 37,
   "id": "d117d2ed",
   "metadata": {},
   "outputs": [],
   "source": [
    "s1.difference_update(s2)"
   ]
  },
  {
   "cell_type": "code",
   "execution_count": 38,
   "id": "7543a65a",
   "metadata": {},
   "outputs": [
    {
     "data": {
      "text/plain": [
       "{3, 4}"
      ]
     },
     "execution_count": 38,
     "metadata": {},
     "output_type": "execute_result"
    }
   ],
   "source": [
    "s1"
   ]
  },
  {
   "cell_type": "code",
   "execution_count": 41,
   "id": "f906f754",
   "metadata": {},
   "outputs": [
    {
     "data": {
      "text/plain": [
       "{3, 4, 6, 7}"
      ]
     },
     "execution_count": 41,
     "metadata": {},
     "output_type": "execute_result"
    }
   ],
   "source": [
    "s1={1,2,3,4,5}\n",
    "s2={5,6,7,1,2}\n",
    "s1.symmetric_difference(s2)"
   ]
  },
  {
   "cell_type": "code",
   "execution_count": 45,
   "id": "960df791",
   "metadata": {},
   "outputs": [],
   "source": [
    "s1={1,2,3,4,5}\n",
    "s2={5,6,7,1,2}\n",
    "s1.symmetric_difference_update(s2)"
   ]
  },
  {
   "cell_type": "code",
   "execution_count": 46,
   "id": "4b9bfa31",
   "metadata": {},
   "outputs": [
    {
     "data": {
      "text/plain": [
       "{3, 4, 6, 7}"
      ]
     },
     "execution_count": 46,
     "metadata": {},
     "output_type": "execute_result"
    }
   ],
   "source": [
    "s1"
   ]
  },
  {
   "cell_type": "code",
   "execution_count": 47,
   "id": "e98cc382",
   "metadata": {},
   "outputs": [],
   "source": [
    "s1={1,2,3}\n",
    "s2={1,2,3,4,5,6,7}"
   ]
  },
  {
   "cell_type": "code",
   "execution_count": 48,
   "id": "ff68f9d2",
   "metadata": {},
   "outputs": [
    {
     "data": {
      "text/plain": [
       "True"
      ]
     },
     "execution_count": 48,
     "metadata": {},
     "output_type": "execute_result"
    }
   ],
   "source": [
    "s1.issubset(s2)"
   ]
  },
  {
   "cell_type": "code",
   "execution_count": 49,
   "id": "c469eaf6",
   "metadata": {},
   "outputs": [
    {
     "data": {
      "text/plain": [
       "True"
      ]
     },
     "execution_count": 49,
     "metadata": {},
     "output_type": "execute_result"
    }
   ],
   "source": [
    "s2.issuperset(s1)"
   ]
  },
  {
   "cell_type": "code",
   "execution_count": 50,
   "id": "8f416b3a",
   "metadata": {},
   "outputs": [
    {
     "data": {
      "text/plain": [
       "frozenset({1, 2, 3, 4})"
      ]
     },
     "execution_count": 50,
     "metadata": {},
     "output_type": "execute_result"
    }
   ],
   "source": [
    "frozenset((1,2,3,4))"
   ]
  },
  {
   "cell_type": "code",
   "execution_count": 51,
   "id": "787dc6e5",
   "metadata": {},
   "outputs": [],
   "source": [
    "# we cant change anything in frozenset.it is immutable.\n"
   ]
  },
  {
   "cell_type": "code",
   "execution_count": 54,
   "id": "b8efbd19",
   "metadata": {},
   "outputs": [
    {
     "name": "stdout",
     "output_type": "stream",
     "text": [
      "enter the end value: 20\n"
     ]
    }
   ],
   "source": [
    "even=[]\n",
    "odd=[]\n",
    "\n",
    "for _ in range(int(input(\"enter the end value: \"))):\n",
    "    if _ %2==0:\n",
    "        even.append(_)\n",
    "    else:\n",
    "        odd.append(_)\n",
    "        "
   ]
  },
  {
   "cell_type": "code",
   "execution_count": 55,
   "id": "02d6625a",
   "metadata": {},
   "outputs": [
    {
     "data": {
      "text/plain": [
       "[0, 2, 4, 6, 8, 10, 12, 14, 16, 18]"
      ]
     },
     "execution_count": 55,
     "metadata": {},
     "output_type": "execute_result"
    }
   ],
   "source": [
    "even"
   ]
  },
  {
   "cell_type": "code",
   "execution_count": 56,
   "id": "52968126",
   "metadata": {},
   "outputs": [
    {
     "data": {
      "text/plain": [
       "[1, 3, 5, 7, 9, 11, 13, 15, 17, 19]"
      ]
     },
     "execution_count": 56,
     "metadata": {},
     "output_type": "execute_result"
    }
   ],
   "source": [
    "odd"
   ]
  },
  {
   "cell_type": "code",
   "execution_count": 57,
   "id": "b698d30c",
   "metadata": {},
   "outputs": [
    {
     "name": "stdout",
     "output_type": "stream",
     "text": [
      "Enter the length of the list: 3\n",
      " enter the type of element int,float,complex,str:  complex\n",
      "enter the value: 2.2\n",
      " enter the type of element int,float,complex,str:  int\n",
      "enter the value: 100\n",
      " enter the type of element int,float,complex,str:  complex\n",
      "enter the value: 2+2j\n"
     ]
    }
   ],
   "source": [
    "l=[]\n",
    "\n",
    "for a in range(int(input(\"Enter the length of the list: \"))):\n",
    "    var= input(\" enter the type of element int,float,complex,str:  \")\n",
    "    \n",
    "    if var==int:\n",
    "        l.insert(a,int(input(\"enter the value: \")))\n",
    "    elif var==float:\n",
    "        l.insert(a,float(input(\"enter the value: \")))\n",
    "    elif var==complex:\n",
    "        l.insert(a,complex(input(\"enter the value: \")))\n",
    "    else:\n",
    "        l.insert(a,(input(\"enter the value: \")))\n",
    "        \n"
   ]
  },
  {
   "cell_type": "code",
   "execution_count": 58,
   "id": "881c53d4",
   "metadata": {},
   "outputs": [
    {
     "data": {
      "text/plain": [
       "['2.2', '100', '2+2j']"
      ]
     },
     "execution_count": 58,
     "metadata": {},
     "output_type": "execute_result"
    }
   ],
   "source": [
    "l"
   ]
  },
  {
   "cell_type": "code",
   "execution_count": 1,
   "id": "44bae39d",
   "metadata": {},
   "outputs": [],
   "source": [
    "# Dictionaries\n",
    "# it is also collection data type\n",
    "# elments will be in pair (key and values)\n",
    "# sequential data\n",
    "# elements are in ordered.\n",
    "# keys can not duplicate but values can duplicate\n",
    "# mutable.\n",
    "\n"
   ]
  },
  {
   "cell_type": "code",
   "execution_count": 2,
   "id": "9e473df2",
   "metadata": {},
   "outputs": [],
   "source": [
    "x = {1:\"abc\",2:\"xyz\"}"
   ]
  },
  {
   "cell_type": "code",
   "execution_count": 3,
   "id": "0f6b6dc6",
   "metadata": {},
   "outputs": [
    {
     "data": {
      "text/plain": [
       "{1: 'abc', 2: 'xyz'}"
      ]
     },
     "execution_count": 3,
     "metadata": {},
     "output_type": "execute_result"
    }
   ],
   "source": [
    "x"
   ]
  },
  {
   "cell_type": "code",
   "execution_count": 4,
   "id": "8f93151b",
   "metadata": {},
   "outputs": [
    {
     "data": {
      "text/plain": [
       "'xyz'"
      ]
     },
     "execution_count": 4,
     "metadata": {},
     "output_type": "execute_result"
    }
   ],
   "source": [
    "x[2]"
   ]
  },
  {
   "cell_type": "code",
   "execution_count": 5,
   "id": "e7c493ee",
   "metadata": {},
   "outputs": [],
   "source": [
    "x[2]=\"d\""
   ]
  },
  {
   "cell_type": "code",
   "execution_count": 6,
   "id": "8b7296d5",
   "metadata": {},
   "outputs": [
    {
     "data": {
      "text/plain": [
       "{1: 'abc', 2: 'd'}"
      ]
     },
     "execution_count": 6,
     "metadata": {},
     "output_type": "execute_result"
    }
   ],
   "source": [
    "x"
   ]
  },
  {
   "cell_type": "code",
   "execution_count": 7,
   "id": "ebbe6bdd",
   "metadata": {},
   "outputs": [
    {
     "ename": "TypeError",
     "evalue": "unhashable type: 'slice'",
     "output_type": "error",
     "traceback": [
      "\u001b[1;31m---------------------------------------------------------------------------\u001b[0m",
      "\u001b[1;31mTypeError\u001b[0m                                 Traceback (most recent call last)",
      "Cell \u001b[1;32mIn[7], line 1\u001b[0m\n\u001b[1;32m----> 1\u001b[0m \u001b[43mx\u001b[49m\u001b[43m[\u001b[49m\u001b[38;5;241;43m1\u001b[39;49m\u001b[43m:\u001b[49m\u001b[38;5;241;43m3\u001b[39;49m\u001b[43m]\u001b[49m\n",
      "\u001b[1;31mTypeError\u001b[0m: unhashable type: 'slice'"
     ]
    }
   ],
   "source": [
    "x[1:3]"
   ]
  },
  {
   "cell_type": "code",
   "execution_count": 8,
   "id": "785e286c",
   "metadata": {},
   "outputs": [],
   "source": [
    "x[4]=\"mno\""
   ]
  },
  {
   "cell_type": "code",
   "execution_count": 9,
   "id": "ab67f670",
   "metadata": {},
   "outputs": [
    {
     "data": {
      "text/plain": [
       "{1: 'abc', 2: 'd', 4: 'mno'}"
      ]
     },
     "execution_count": 9,
     "metadata": {},
     "output_type": "execute_result"
    }
   ],
   "source": [
    "x"
   ]
  },
  {
   "cell_type": "code",
   "execution_count": 10,
   "id": "68e0d772",
   "metadata": {},
   "outputs": [],
   "source": [
    "x1={1:\"abc\",2:\"xyz\",1:\"xyz\"}"
   ]
  },
  {
   "cell_type": "code",
   "execution_count": 11,
   "id": "0e05269d",
   "metadata": {},
   "outputs": [
    {
     "data": {
      "text/plain": [
       "{1: 'xyz', 2: 'xyz'}"
      ]
     },
     "execution_count": 11,
     "metadata": {},
     "output_type": "execute_result"
    }
   ],
   "source": [
    "x1"
   ]
  },
  {
   "cell_type": "code",
   "execution_count": 12,
   "id": "8d25791d",
   "metadata": {},
   "outputs": [
    {
     "data": {
      "text/plain": [
       "dict"
      ]
     },
     "execution_count": 12,
     "metadata": {},
     "output_type": "execute_result"
    }
   ],
   "source": [
    "type(x)"
   ]
  },
  {
   "cell_type": "code",
   "execution_count": 13,
   "id": "41651cc0",
   "metadata": {},
   "outputs": [],
   "source": [
    "#update\n",
    "x.update({5:\"123\",6:\"sdf\",7:5})"
   ]
  },
  {
   "cell_type": "code",
   "execution_count": 14,
   "id": "97cf149d",
   "metadata": {},
   "outputs": [
    {
     "data": {
      "text/plain": [
       "{1: 'abc', 2: 'd', 4: 'mno', 5: '123', 6: 'sdf', 7: 5}"
      ]
     },
     "execution_count": 14,
     "metadata": {},
     "output_type": "execute_result"
    }
   ],
   "source": [
    "x"
   ]
  },
  {
   "cell_type": "code",
   "execution_count": 16,
   "id": "a1432ed8",
   "metadata": {},
   "outputs": [],
   "source": [
    "# pop (keys should be removed)"
   ]
  },
  {
   "cell_type": "code",
   "execution_count": 17,
   "id": "854ac830",
   "metadata": {},
   "outputs": [
    {
     "data": {
      "text/plain": [
       "'mno'"
      ]
     },
     "execution_count": 17,
     "metadata": {},
     "output_type": "execute_result"
    }
   ],
   "source": [
    "x.pop(4)"
   ]
  },
  {
   "cell_type": "code",
   "execution_count": 18,
   "id": "b083a347",
   "metadata": {},
   "outputs": [
    {
     "data": {
      "text/plain": [
       "{1: 'abc', 2: 'd', 5: '123', 6: 'sdf', 7: 5}"
      ]
     },
     "execution_count": 18,
     "metadata": {},
     "output_type": "execute_result"
    }
   ],
   "source": [
    "x"
   ]
  },
  {
   "cell_type": "code",
   "execution_count": 19,
   "id": "f04b906a",
   "metadata": {},
   "outputs": [
    {
     "data": {
      "text/plain": [
       "(7, 5)"
      ]
     },
     "execution_count": 19,
     "metadata": {},
     "output_type": "execute_result"
    }
   ],
   "source": [
    "x.popitem()"
   ]
  },
  {
   "cell_type": "code",
   "execution_count": 27,
   "id": "d58f11e4",
   "metadata": {},
   "outputs": [
    {
     "data": {
      "text/plain": [
       "{1: 'abc', 5: '123', 6: 'sdf'}"
      ]
     },
     "execution_count": 27,
     "metadata": {},
     "output_type": "execute_result"
    }
   ],
   "source": [
    "x"
   ]
  },
  {
   "cell_type": "code",
   "execution_count": 28,
   "id": "862c94de",
   "metadata": {},
   "outputs": [
    {
     "data": {
      "text/plain": [
       "{1: 'abc', 5: '123', 6: 'sdf'}"
      ]
     },
     "execution_count": 28,
     "metadata": {},
     "output_type": "execute_result"
    }
   ],
   "source": [
    "x"
   ]
  },
  {
   "cell_type": "code",
   "execution_count": 29,
   "id": "1db075d9",
   "metadata": {},
   "outputs": [],
   "source": [
    "del x[1]"
   ]
  },
  {
   "cell_type": "code",
   "execution_count": 30,
   "id": "723d68b3",
   "metadata": {},
   "outputs": [
    {
     "data": {
      "text/plain": [
       "{5: '123', 6: 'sdf'}"
      ]
     },
     "execution_count": 30,
     "metadata": {},
     "output_type": "execute_result"
    }
   ],
   "source": [
    "x"
   ]
  },
  {
   "cell_type": "code",
   "execution_count": 37,
   "id": "a0e4e592",
   "metadata": {},
   "outputs": [],
   "source": [
    "x1=x.copy()"
   ]
  },
  {
   "cell_type": "code",
   "execution_count": 38,
   "id": "06b37dbf",
   "metadata": {},
   "outputs": [
    {
     "data": {
      "text/plain": [
       "{5: '123', 6: 'sdf'}"
      ]
     },
     "execution_count": 38,
     "metadata": {},
     "output_type": "execute_result"
    }
   ],
   "source": [
    "x1"
   ]
  },
  {
   "cell_type": "code",
   "execution_count": 33,
   "id": "6c2b0d21",
   "metadata": {},
   "outputs": [
    {
     "data": {
      "text/plain": [
       "{5: '123', 6: 'sdf'}"
      ]
     },
     "execution_count": 33,
     "metadata": {},
     "output_type": "execute_result"
    }
   ],
   "source": [
    "x"
   ]
  },
  {
   "cell_type": "code",
   "execution_count": 34,
   "id": "ab7eecd6",
   "metadata": {},
   "outputs": [
    {
     "data": {
      "text/plain": [
       "dict_keys([1, 2, 3, 4])"
      ]
     },
     "execution_count": 34,
     "metadata": {},
     "output_type": "execute_result"
    }
   ],
   "source": [
    "x2={1:\"a\",2:\"b\",3:\"c\",4:\"d\"}\n",
    "x2.keys()"
   ]
  },
  {
   "cell_type": "code",
   "execution_count": 35,
   "id": "3489a135",
   "metadata": {},
   "outputs": [
    {
     "data": {
      "text/plain": [
       "dict_values(['a', 'b', 'c', 'd'])"
      ]
     },
     "execution_count": 35,
     "metadata": {},
     "output_type": "execute_result"
    }
   ],
   "source": [
    "x2.values()"
   ]
  },
  {
   "cell_type": "code",
   "execution_count": 39,
   "id": "97a67bb0",
   "metadata": {},
   "outputs": [
    {
     "data": {
      "text/plain": [
       "dict_items([(1, 'a'), (2, 'b'), (3, 'c'), (4, 'd')])"
      ]
     },
     "execution_count": 39,
     "metadata": {},
     "output_type": "execute_result"
    }
   ],
   "source": [
    "x2.items()"
   ]
  },
  {
   "cell_type": "code",
   "execution_count": 40,
   "id": "be75c770",
   "metadata": {},
   "outputs": [
    {
     "data": {
      "text/plain": [
       "'b'"
      ]
     },
     "execution_count": 40,
     "metadata": {},
     "output_type": "execute_result"
    }
   ],
   "source": [
    "x2.get(2)"
   ]
  },
  {
   "cell_type": "code",
   "execution_count": 41,
   "id": "6581289d",
   "metadata": {},
   "outputs": [],
   "source": [
    "del x2[2]"
   ]
  },
  {
   "cell_type": "code",
   "execution_count": 42,
   "id": "93ee21ff",
   "metadata": {},
   "outputs": [
    {
     "data": {
      "text/plain": [
       "{1: 'a', 3: 'c', 4: 'd'}"
      ]
     },
     "execution_count": 42,
     "metadata": {},
     "output_type": "execute_result"
    }
   ],
   "source": [
    "x2"
   ]
  },
  {
   "cell_type": "code",
   "execution_count": 44,
   "id": "6d16271d",
   "metadata": {},
   "outputs": [
    {
     "name": "stdout",
     "output_type": "stream",
     "text": [
      "1\n",
      "3\n",
      "4\n"
     ]
    }
   ],
   "source": [
    "for a in x2:\n",
    "    print(a)"
   ]
  },
  {
   "cell_type": "code",
   "execution_count": 46,
   "id": "fa68e9eb",
   "metadata": {},
   "outputs": [
    {
     "name": "stdout",
     "output_type": "stream",
     "text": [
      "a\n",
      "c\n",
      "d\n"
     ]
    }
   ],
   "source": [
    "for a in x2.values():\n",
    "    print(a)"
   ]
  },
  {
   "cell_type": "code",
   "execution_count": 47,
   "id": "8d46d9ab",
   "metadata": {},
   "outputs": [
    {
     "name": "stdout",
     "output_type": "stream",
     "text": [
      "(1, 'a')\n",
      "(3, 'c')\n",
      "(4, 'd')\n"
     ]
    }
   ],
   "source": [
    "for a in x2.items():\n",
    "    print(a)"
   ]
  },
  {
   "cell_type": "code",
   "execution_count": 48,
   "id": "f1c34a49",
   "metadata": {},
   "outputs": [
    {
     "name": "stdout",
     "output_type": "stream",
     "text": [
      "1 a\n",
      "3 c\n",
      "4 d\n"
     ]
    }
   ],
   "source": [
    "for a,b in x2.items():\n",
    "    print(a,b)\n",
    "    "
   ]
  },
  {
   "cell_type": "code",
   "execution_count": 49,
   "id": "87104b32",
   "metadata": {},
   "outputs": [],
   "source": [
    "# packing and unpacking\n",
    "x=(1,2,3,4,\"a\")\n"
   ]
  },
  {
   "cell_type": "code",
   "execution_count": 50,
   "id": "0da9910a",
   "metadata": {},
   "outputs": [],
   "source": [
    "a,b,c,d,e=x"
   ]
  },
  {
   "cell_type": "code",
   "execution_count": 51,
   "id": "8aa0284c",
   "metadata": {},
   "outputs": [
    {
     "data": {
      "text/plain": [
       "1"
      ]
     },
     "execution_count": 51,
     "metadata": {},
     "output_type": "execute_result"
    }
   ],
   "source": [
    "a"
   ]
  },
  {
   "cell_type": "code",
   "execution_count": 52,
   "id": "09346d29",
   "metadata": {},
   "outputs": [
    {
     "data": {
      "text/plain": [
       "'a'"
      ]
     },
     "execution_count": 52,
     "metadata": {},
     "output_type": "execute_result"
    }
   ],
   "source": [
    "e"
   ]
  },
  {
   "cell_type": "code",
   "execution_count": 56,
   "id": "a136175c",
   "metadata": {},
   "outputs": [],
   "source": [
    "data={\"name\":(\"p1\",\"p2\",\"p3\"),\"age\":[21,23,24],\"gender\":[\"f\",\"m\",\"f\"]}"
   ]
  },
  {
   "cell_type": "code",
   "execution_count": 58,
   "id": "8b02e724",
   "metadata": {},
   "outputs": [],
   "source": [
    "data[\"age\"][1]=38"
   ]
  },
  {
   "cell_type": "code",
   "execution_count": 59,
   "id": "9f536968",
   "metadata": {},
   "outputs": [
    {
     "data": {
      "text/plain": [
       "{'name': ('p1', 'p2', 'p3'), 'age': [21, 38, 24], 'gender': ['f', 'm', 'f']}"
      ]
     },
     "execution_count": 59,
     "metadata": {},
     "output_type": "execute_result"
    }
   ],
   "source": [
    "data"
   ]
  },
  {
   "cell_type": "code",
   "execution_count": 60,
   "id": "31948ab0",
   "metadata": {},
   "outputs": [],
   "source": [
    "data1={\"name\":{\"age\":{\"height\":20}}}"
   ]
  },
  {
   "cell_type": "code",
   "execution_count": 61,
   "id": "92c91da1",
   "metadata": {},
   "outputs": [
    {
     "data": {
      "text/plain": [
       "{'height': 20}"
      ]
     },
     "execution_count": 61,
     "metadata": {},
     "output_type": "execute_result"
    }
   ],
   "source": [
    "data1[\"name\"][\"age\"]"
   ]
  },
  {
   "cell_type": "code",
   "execution_count": 64,
   "id": "7c629572",
   "metadata": {},
   "outputs": [],
   "source": [
    "data1[\"name\"][\"age\"][\"height\"]=108"
   ]
  },
  {
   "cell_type": "code",
   "execution_count": 65,
   "id": "273668ab",
   "metadata": {},
   "outputs": [
    {
     "data": {
      "text/plain": [
       "{'name': {'age': {'height': 108}}}"
      ]
     },
     "execution_count": 65,
     "metadata": {},
     "output_type": "execute_result"
    }
   ],
   "source": [
    "data1"
   ]
  },
  {
   "cell_type": "code",
   "execution_count": null,
   "id": "fb772e08",
   "metadata": {},
   "outputs": [],
   "source": []
  }
 ],
 "metadata": {
  "kernelspec": {
   "display_name": "Python 3 (ipykernel)",
   "language": "python",
   "name": "python3"
  },
  "language_info": {
   "codemirror_mode": {
    "name": "ipython",
    "version": 3
   },
   "file_extension": ".py",
   "mimetype": "text/x-python",
   "name": "python",
   "nbconvert_exporter": "python",
   "pygments_lexer": "ipython3",
   "version": "3.10.9"
  }
 },
 "nbformat": 4,
 "nbformat_minor": 5
}
