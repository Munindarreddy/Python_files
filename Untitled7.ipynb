{
 "cells": [
  {
   "cell_type": "code",
   "execution_count": 1,
   "id": "4f1261ed",
   "metadata": {},
   "outputs": [],
   "source": [
    "# a) \n",
    "\n",
    "# 1  \n",
    "# 2 2  \n",
    "# 3 3 3  \n",
    "# 4 4 4 4  \n",
    "# 5 5 5 5 5\n"
   ]
  },
  {
   "cell_type": "code",
   "execution_count": 9,
   "id": "b4f9bf69",
   "metadata": {},
   "outputs": [
    {
     "name": "stdout",
     "output_type": "stream",
     "text": [
      "1 \n",
      "2 2 \n",
      "3 3 3 \n",
      "4 4 4 4 \n",
      "5 5 5 5 5 \n"
     ]
    }
   ],
   "source": [
    "for x in range(1,6):\n",
    "    y=1\n",
    "    while y<=x:\n",
    "        print(x,end=\" \")\n",
    "        y=y+1\n",
    "    print()\n",
    "    "
   ]
  },
  {
   "cell_type": "code",
   "execution_count": 14,
   "id": "de7230ec",
   "metadata": {},
   "outputs": [],
   "source": [
    "#b)\n",
    "#1 \n",
    "#1 2 \n",
    "#1 2 3 \n",
    "#1 2 3 4 \n",
    "#1 2 3 4 5 \n"
   ]
  },
  {
   "cell_type": "code",
   "execution_count": 3,
   "id": "ad485305",
   "metadata": {},
   "outputs": [
    {
     "name": "stdout",
     "output_type": "stream",
     "text": [
      "1 \n",
      "1 2 \n",
      "1 2 3 \n",
      "1 2 3 4 \n",
      "1 2 3 4 5 \n"
     ]
    }
   ],
   "source": [
    "for x in range(1,6):\n",
    "    y=1\n",
    "    while y<=x:\n",
    "        print(y,end=\" \")\n",
    "        y=y+1\n",
    "    print()"
   ]
  },
  {
   "cell_type": "code",
   "execution_count": 4,
   "id": "0d335dcc",
   "metadata": {},
   "outputs": [],
   "source": [
    "#c\n",
    "# 1 1 1 1 1 \n",
    "# 2 2 2 2 \n",
    "# 3 3 3 \n",
    "# 4 4 \n",
    "# 5\n"
   ]
  },
  {
   "cell_type": "code",
   "execution_count": 2,
   "id": "c881a701",
   "metadata": {},
   "outputs": [
    {
     "name": "stdout",
     "output_type": "stream",
     "text": [
      "1 1 1 1 1 \n",
      "2 2 2 2 \n",
      "3 3 3 \n",
      "4 4 \n",
      "5 \n"
     ]
    }
   ],
   "source": [
    "for x in range(1,6):\n",
    "    y=5\n",
    "    while y>=x:\n",
    "        print(x,end=\" \")\n",
    "        y=y-1\n",
    "    print()"
   ]
  },
  {
   "cell_type": "code",
   "execution_count": null,
   "id": "2364192e",
   "metadata": {},
   "outputs": [],
   "source": [
    "# 5 5 5 5 5 \n",
    "# 5 5 5 5 \n",
    "# 5 5 5 \n",
    "# 5 5 \n",
    "# 5\n",
    "\n"
   ]
  },
  {
   "cell_type": "code",
   "execution_count": 3,
   "id": "16fce6d9",
   "metadata": {},
   "outputs": [
    {
     "name": "stdout",
     "output_type": "stream",
     "text": [
      "5 5 5 5 5 \n",
      "5 5 5 5 \n",
      "5 5 5 \n",
      "5 5 \n",
      "5 \n"
     ]
    }
   ],
   "source": [
    "for x in range(1,6):\n",
    "    y=5\n",
    "    while y>=x:\n",
    "        print(5,end=\" \")\n",
    "        y=y-1\n",
    "    print()"
   ]
  },
  {
   "cell_type": "code",
   "execution_count": 4,
   "id": "ec9a31c9",
   "metadata": {},
   "outputs": [],
   "source": [
    "# 0 1 2 3 4 5 \n",
    "# 0 1 2 3 4 \n",
    "# 0 1 2 3 \n",
    "# 0 1 2 \n",
    "# 0 1\n"
   ]
  },
  {
   "cell_type": "code",
   "execution_count": 8,
   "id": "231e34e5",
   "metadata": {},
   "outputs": [
    {
     "name": "stdout",
     "output_type": "stream",
     "text": [
      "0 0 0 0 0 0 \n",
      "1 1 1 1 1 \n",
      "2 2 2 2 \n",
      "3 3 3 \n",
      "4 4 \n",
      "5 \n"
     ]
    }
   ],
   "source": [
    "for x in range(0,6):\n",
    "    y=5\n",
    "    while y>=x:\n",
    "        print(x,y,end=\" \")\n",
    "        y=y-1\n",
    "    print()"
   ]
  },
  {
   "cell_type": "code",
   "execution_count": null,
   "id": "5a3ee81b",
   "metadata": {},
   "outputs": [],
   "source": []
  }
 ],
 "metadata": {
  "kernelspec": {
   "display_name": "Python 3 (ipykernel)",
   "language": "python",
   "name": "python3"
  },
  "language_info": {
   "codemirror_mode": {
    "name": "ipython",
    "version": 3
   },
   "file_extension": ".py",
   "mimetype": "text/x-python",
   "name": "python",
   "nbconvert_exporter": "python",
   "pygments_lexer": "ipython3",
   "version": "3.10.9"
  }
 },
 "nbformat": 4,
 "nbformat_minor": 5
}
