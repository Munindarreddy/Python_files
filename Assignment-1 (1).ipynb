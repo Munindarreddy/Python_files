{
 "cells": [
  {
   "cell_type": "code",
   "execution_count": null,
   "id": "da46c54c",
   "metadata": {},
   "outputs": [],
   "source": [
    "# A string to lower case\n"
   ]
  },
  {
   "cell_type": "code",
   "execution_count": null,
   "id": "10b2caee",
   "metadata": {},
   "outputs": [],
   "source": [
    "x = \"GOOD MORNING everyone!!\""
   ]
  },
  {
   "cell_type": "code",
   "execution_count": null,
   "id": "4eaa8a87",
   "metadata": {},
   "outputs": [],
   "source": [
    "x.lower()"
   ]
  },
  {
   "cell_type": "code",
   "execution_count": null,
   "id": "b1e78c0f",
   "metadata": {},
   "outputs": [],
   "source": [
    "# Odd indexed characters to lower case"
   ]
  },
  {
   "cell_type": "code",
   "execution_count": null,
   "id": "c3a50751",
   "metadata": {},
   "outputs": [],
   "source": [
    "x = \"ABCDEFGH\"\n",
    "x[0].upper()+x[1].lower()+x[2].upper()+x[3].lower()+x[4].upper()+x[5].lower()+x[6].upper()+x[7].lower()"
   ]
  },
  {
   "cell_type": "markdown",
   "id": "ea4bade7",
   "metadata": {},
   "source": [
    "#or we can use maketrans"
   ]
  },
  {
   "cell_type": "code",
   "execution_count": null,
   "id": "0e3fbf87",
   "metadata": {},
   "outputs": [],
   "source": [
    "x =\"ABCDEFGH\"\n",
    "x1=x.maketrans(\"BDFH\",\"bdfh\")"
   ]
  },
  {
   "cell_type": "code",
   "execution_count": null,
   "id": "953524ff",
   "metadata": {},
   "outputs": [],
   "source": [
    "x1"
   ]
  },
  {
   "cell_type": "code",
   "execution_count": null,
   "id": "0c72043f",
   "metadata": {},
   "outputs": [],
   "source": [
    "x.translate(x1)"
   ]
  },
  {
   "cell_type": "code",
   "execution_count": null,
   "id": "4eab2848",
   "metadata": {},
   "outputs": [],
   "source": [
    "# even indexed characters to lower case"
   ]
  },
  {
   "cell_type": "code",
   "execution_count": null,
   "id": "4e8571e4",
   "metadata": {},
   "outputs": [],
   "source": [
    "x = \"ABCDEFGH\"\n",
    "x[0].lower()+x[1].upper()+x[2].lower()+x[3].upper()+x[4].lower()+x[5].upper()+x[6].lower()+x[7].upper()"
   ]
  },
  {
   "cell_type": "code",
   "execution_count": null,
   "id": "e3462478",
   "metadata": {},
   "outputs": [],
   "source": [
    "# or we can use maketrans\n",
    "odd = \"ABCDEFGH\"\n",
    "odd1=odd.maketrans(\"ACEG\",\"aceg\")"
   ]
  },
  {
   "cell_type": "code",
   "execution_count": null,
   "id": "7392f63f",
   "metadata": {},
   "outputs": [],
   "source": [
    "odd1"
   ]
  },
  {
   "cell_type": "code",
   "execution_count": null,
   "id": "2ac35a49",
   "metadata": {},
   "outputs": [],
   "source": [
    "odd.translate(odd1)"
   ]
  },
  {
   "cell_type": "code",
   "execution_count": null,
   "id": "5ef53a3e",
   "metadata": {},
   "outputs": [],
   "source": [
    "# Odd indexed characters to upper case\n",
    "x = \"manasa\"\n",
    "x[0].lower()+x[1].upper()+x[2].lower()+x[3].upper()+x[4].lower()+x[5].upper()\n"
   ]
  },
  {
   "cell_type": "code",
   "execution_count": null,
   "id": "ed8eef51",
   "metadata": {},
   "outputs": [],
   "source": [
    "# or we can use maketrans\n",
    "name = \"manasa\"\n",
    "name1 = name.maketrans(\"a\",\"A\")"
   ]
  },
  {
   "cell_type": "code",
   "execution_count": null,
   "id": "7f92d202",
   "metadata": {},
   "outputs": [],
   "source": [
    "name1"
   ]
  },
  {
   "cell_type": "code",
   "execution_count": null,
   "id": "a1852f43",
   "metadata": {},
   "outputs": [],
   "source": [
    "name.translate(name1)"
   ]
  },
  {
   "cell_type": "code",
   "execution_count": null,
   "id": "d9d50e9d",
   "metadata": {},
   "outputs": [],
   "source": [
    "x = \"manasa\"\n",
    "x.replace(\"a\",\"A\")"
   ]
  },
  {
   "cell_type": "code",
   "execution_count": null,
   "id": "1e57802f",
   "metadata": {},
   "outputs": [],
   "source": [
    "# even indexed characters to upper case"
   ]
  },
  {
   "cell_type": "code",
   "execution_count": 70,
   "id": "ba1c63c8",
   "metadata": {},
   "outputs": [
    {
     "data": {
      "text/plain": [
       "'JuPyTeR'"
      ]
     },
     "execution_count": 70,
     "metadata": {},
     "output_type": "execute_result"
    }
   ],
   "source": [
    "x = \"jupyter\"\n",
    "x[0].upper()+x[1].lower()+x[2].upper()+x[3].lower()+x[4].upper()+x[5].lower()+x[6].upper()"
   ]
  },
  {
   "cell_type": "code",
   "execution_count": 71,
   "id": "12ec8e8e",
   "metadata": {},
   "outputs": [],
   "source": [
    "x = \"jupyter\"\n",
    "x1 = x.maketrans(\"jptr\",\"JPTR\")"
   ]
  },
  {
   "cell_type": "code",
   "execution_count": 72,
   "id": "32149b36",
   "metadata": {},
   "outputs": [
    {
     "data": {
      "text/plain": [
       "{106: 74, 112: 80, 116: 84, 114: 82}"
      ]
     },
     "execution_count": 72,
     "metadata": {},
     "output_type": "execute_result"
    }
   ],
   "source": [
    "x1"
   ]
  },
  {
   "cell_type": "code",
   "execution_count": 73,
   "id": "ced1b851",
   "metadata": {},
   "outputs": [
    {
     "data": {
      "text/plain": [
       "'JuPyTeR'"
      ]
     },
     "execution_count": 73,
     "metadata": {},
     "output_type": "execute_result"
    }
   ],
   "source": [
    "x.translate(x1)"
   ]
  },
  {
   "cell_type": "code",
   "execution_count": null,
   "id": "c10887dd",
   "metadata": {},
   "outputs": [],
   "source": [
    "#Write a python program where you have different variable which contains your name ,sex,age, phone no ,\n",
    "fathers name and mothers name. Make a Bio data"
   ]
  },
  {
   "cell_type": "code",
   "execution_count": 4,
   "id": "18aaf095",
   "metadata": {},
   "outputs": [
    {
     "name": "stdout",
     "output_type": "stream",
     "text": [
      "What is your name?: Jack\n",
      "Enter your sex: male\n",
      "What is your age?: 26\n",
      "Enter your phone number: 90000000\n",
      "Enter your father name: xyz\n",
      "Enter your mother name: zyx\n",
      "My name is Jack and I am male. I am 26 years old. My phone number 90000000. My father's name is xyz. My mother's name is zyx.\n"
     ]
    }
   ],
   "source": [
    "Name = input(\"What is your name?: \")\n",
    "sex = input(\"Enter your sex: \")\n",
    "age = int(input(\"What is your age?: \"))\n",
    "ph_no = int(input(\"Enter your phone number: \"))\n",
    "Father = input(\"Enter your father name: \")\n",
    "mother = input(\"Enter your mother name: \")\n",
    "Bio_data=print(\"My name is {} and I am {}. I am {} years old. My phone number {}. My father's name is {}. My mother's name is \\\n",
    "{}.\".format(Name,sex,age,ph_no,Father,mother))\n"
   ]
  },
  {
   "cell_type": "code",
   "execution_count": null,
   "id": "d0e112c0",
   "metadata": {},
   "outputs": [],
   "source": [
    "#Write a python program to count how many times “@” occurred\n"
   ]
  },
  {
   "cell_type": "code",
   "execution_count": 5,
   "id": "cc27b68e",
   "metadata": {},
   "outputs": [
    {
     "data": {
      "text/plain": [
       "7"
      ]
     },
     "execution_count": 5,
     "metadata": {},
     "output_type": "execute_result"
    }
   ],
   "source": [
    "x =  \"@@##!!!I AM @@!!##MANASA@@@\"\n",
    "x.count(\"@\")"
   ]
  },
  {
   "cell_type": "code",
   "execution_count": null,
   "id": "9377adc1",
   "metadata": {},
   "outputs": [],
   "source": [
    "# Write a python program to get only names from the string "
   ]
  },
  {
   "cell_type": "code",
   "execution_count": 26,
   "id": "bb072785",
   "metadata": {},
   "outputs": [
    {
     "name": "stdout",
     "output_type": "stream",
     "text": [
      "xyz96\n",
      "abc96\n",
      "jack12\n"
     ]
    }
   ],
   "source": [
    "mail = \"xyz96@gmail.com\"\n",
    "mail2 = \"abc96@gmail.com\"\n",
    "mail3 = \"jack12@gmail.com\"\n",
    "print(mail.split(\"@gmail.com\")[0]) \n",
    "print(mail2.split(\"@gmail.com\")[0])\n",
    "print(mail3.split(\"@gmail.com\")[0])\n"
   ]
  },
  {
   "cell_type": "code",
   "execution_count": 94,
   "id": "f498945f",
   "metadata": {},
   "outputs": [
    {
     "data": {
      "text/plain": [
       "'name1,name2,name3'"
      ]
     },
     "execution_count": 94,
     "metadata": {},
     "output_type": "execute_result"
    }
   ],
   "source": [
    "mail = \"name1@gmail.com\"+\"name2@gmail.com\"+\"name3@gmail.com\"\n",
    "mail.replace(\"@gmail.com\",\",\").strip(\",\")"
   ]
  },
  {
   "cell_type": "code",
   "execution_count": null,
   "id": "0291449a",
   "metadata": {},
   "outputs": [],
   "source": [
    "#Given a string of odd length greater that 9, return a new string made of the middle three characters of a given String\n"
   ]
  },
  {
   "cell_type": "code",
   "execution_count": 63,
   "id": "e4492039",
   "metadata": {},
   "outputs": [],
   "source": [
    "word = \"mynameisissan\"\n"
   ]
  },
  {
   "cell_type": "code",
   "execution_count": 65,
   "id": "10ec0469",
   "metadata": {},
   "outputs": [
    {
     "data": {
      "text/plain": [
       "'mei'"
      ]
     },
     "execution_count": 65,
     "metadata": {},
     "output_type": "execute_result"
    }
   ],
   "source": [
    "word[4:-6]"
   ]
  },
  {
   "cell_type": "code",
   "execution_count": 77,
   "id": "50804219",
   "metadata": {},
   "outputs": [
    {
     "data": {
      "text/plain": [
       "'manasa'"
      ]
     },
     "execution_count": 77,
     "metadata": {},
     "output_type": "execute_result"
    }
   ],
   "source": [
    "# Write a python program to insert a 2 string in the middle of 1 string\n",
    "x=\"masa\"\n",
    "y=\"na\"\n",
    "x[0:2]+y+x[2:5]"
   ]
  },
  {
   "cell_type": "code",
   "execution_count": null,
   "id": "0179a63e",
   "metadata": {},
   "outputs": [],
   "source": [
    "# Write a program to remove vowels from the entire alphabets\n"
   ]
  },
  {
   "cell_type": "code",
   "execution_count": 81,
   "id": "f25420d1",
   "metadata": {},
   "outputs": [],
   "source": [
    "ALP =\"abcdefghijklmnopqrstuvwxyz\"\n",
    "vowels = ALP.maketrans(\"aeiou\",\"11111\")"
   ]
  },
  {
   "cell_type": "code",
   "execution_count": 89,
   "id": "06f43fec",
   "metadata": {},
   "outputs": [
    {
     "data": {
      "text/plain": [
       "{97: 49, 101: 49, 105: 49, 111: 49, 117: 49}"
      ]
     },
     "execution_count": 89,
     "metadata": {},
     "output_type": "execute_result"
    }
   ],
   "source": [
    "vowels"
   ]
  },
  {
   "cell_type": "code",
   "execution_count": 90,
   "id": "e634f89d",
   "metadata": {},
   "outputs": [],
   "source": [
    "vowels1=ALP.translate(vowels)"
   ]
  },
  {
   "cell_type": "code",
   "execution_count": 91,
   "id": "51f692de",
   "metadata": {},
   "outputs": [
    {
     "data": {
      "text/plain": [
       "'1bcd1fgh1jklmn1pqrst1vwxyz'"
      ]
     },
     "execution_count": 91,
     "metadata": {},
     "output_type": "execute_result"
    }
   ],
   "source": [
    "vowels1"
   ]
  },
  {
   "cell_type": "code",
   "execution_count": 92,
   "id": "262ee567",
   "metadata": {},
   "outputs": [
    {
     "data": {
      "text/plain": [
       "'bcdfghjklmnpqrstvwxyz'"
      ]
     },
     "execution_count": 92,
     "metadata": {},
     "output_type": "execute_result"
    }
   ],
   "source": [
    "vowels1.replace(\"1\",\"\")"
   ]
  },
  {
   "cell_type": "code",
   "execution_count": null,
   "id": "16326817",
   "metadata": {},
   "outputs": [],
   "source": []
  }
 ],
 "metadata": {
  "kernelspec": {
   "display_name": "Python 3 (ipykernel)",
   "language": "python",
   "name": "python3"
  },
  "language_info": {
   "codemirror_mode": {
    "name": "ipython",
    "version": 3
   },
   "file_extension": ".py",
   "mimetype": "text/x-python",
   "name": "python",
   "nbconvert_exporter": "python",
   "pygments_lexer": "ipython3",
   "version": "3.10.9"
  }
 },
 "nbformat": 4,
 "nbformat_minor": 5
}
