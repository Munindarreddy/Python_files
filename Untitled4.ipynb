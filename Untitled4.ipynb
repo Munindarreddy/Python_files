{
 "cells": [
  {
   "cell_type": "code",
   "execution_count": 1,
   "id": "967024ab",
   "metadata": {},
   "outputs": [
    {
     "name": "stdout",
     "output_type": "stream",
     "text": [
      "manasa\n",
      "manasa\n",
      "manasa\n",
      "manasa\n",
      "manasa\n",
      "manasa\n"
     ]
    }
   ],
   "source": [
    "x = \"abcdef\"\n",
    "\n",
    "for y in x:\n",
    "    print(\"manasa\")"
   ]
  },
  {
   "cell_type": "code",
   "execution_count": 2,
   "id": "85652aeb",
   "metadata": {},
   "outputs": [
    {
     "name": "stdout",
     "output_type": "stream",
     "text": [
      "bye\n",
      "bye\n",
      "bye\n",
      "bye\n",
      "hi\n"
     ]
    }
   ],
   "source": [
    "x = \"abcdef\"\n",
    "\n",
    "for y in x:\n",
    "    print(\"bye\")\n",
    "    if y==\"d\":\n",
    "        print(\"hi\")\n",
    "        break\n",
    "         \n",
    "         "
   ]
  },
  {
   "cell_type": "code",
   "execution_count": 3,
   "id": "64b4a80b",
   "metadata": {},
   "outputs": [
    {
     "name": "stdout",
     "output_type": "stream",
     "text": [
      "1\n",
      "2\n",
      "3\n",
      "4\n"
     ]
    }
   ],
   "source": [
    "for _ in \"1234\":\n",
    "    print(_)"
   ]
  },
  {
   "cell_type": "code",
   "execution_count": 4,
   "id": "d606f002",
   "metadata": {},
   "outputs": [
    {
     "ename": "SyntaxError",
     "evalue": "invalid syntax (530216418.py, line 1)",
     "output_type": "error",
     "traceback": [
      "\u001b[1;36m  Cell \u001b[1;32mIn[4], line 1\u001b[1;36m\u001b[0m\n\u001b[1;33m    for_in \"abcd\":\u001b[0m\n\u001b[1;37m           ^\u001b[0m\n\u001b[1;31mSyntaxError\u001b[0m\u001b[1;31m:\u001b[0m invalid syntax\n"
     ]
    }
   ],
   "source": [
    "for_in \"abcd\":\n",
    "    "
   ]
  },
  {
   "cell_type": "code",
   "execution_count": 5,
   "id": "94cfa30d",
   "metadata": {},
   "outputs": [
    {
     "ename": "SyntaxError",
     "evalue": "invalid syntax (4116794268.py, line 5)",
     "output_type": "error",
     "traceback": [
      "\u001b[1;36m  Cell \u001b[1;32mIn[5], line 5\u001b[1;36m\u001b[0m\n\u001b[1;33m    else:\u001b[0m\n\u001b[1;37m    ^\u001b[0m\n\u001b[1;31mSyntaxError\u001b[0m\u001b[1;31m:\u001b[0m invalid syntax\n"
     ]
    }
   ],
   "source": [
    "x=4\n",
    "while x<=10:\n",
    "    print(\"hi\")\n",
    "x+=1\n",
    "else:\n",
    "    print(\"bye\")"
   ]
  },
  {
   "cell_type": "code",
   "execution_count": 6,
   "id": "34d29a33",
   "metadata": {},
   "outputs": [
    {
     "name": "stdout",
     "output_type": "stream",
     "text": [
      "hi\n",
      "hi\n",
      "hi\n",
      "hi\n",
      "bye\n"
     ]
    }
   ],
   "source": [
    "for var1 in \"1234\":\n",
    "    print(\"hi\")\n",
    "else:\n",
    "    print(\"bye\")"
   ]
  },
  {
   "cell_type": "code",
   "execution_count": 7,
   "id": "54057f99",
   "metadata": {},
   "outputs": [
    {
     "ename": "SyntaxError",
     "evalue": "incomplete input (2763226494.py, line 3)",
     "output_type": "error",
     "traceback": [
      "\u001b[1;36m  Cell \u001b[1;32mIn[7], line 3\u001b[1;36m\u001b[0m\n\u001b[1;33m    while x >=2:\u001b[0m\n\u001b[1;37m                ^\u001b[0m\n\u001b[1;31mSyntaxError\u001b[0m\u001b[1;31m:\u001b[0m incomplete input\n"
     ]
    }
   ],
   "source": [
    "x=3 \n",
    "while x>=1:\n",
    "    while x >=2:"
   ]
  },
  {
   "cell_type": "code",
   "execution_count": 8,
   "id": "4665c9ee",
   "metadata": {},
   "outputs": [
    {
     "name": "stdout",
     "output_type": "stream",
     "text": [
      "Enter c or q: c\n",
      "Enter Number: 20\n",
      "Enter symbol +,-,*,%,/: /\n",
      "Enter number: 2\n",
      "20/2=10.0\n",
      "Enter c or q: 2\n",
      "Enter Number: 12\n",
      "Enter symbol +,-,*,%,/: /\n",
      "Enter number: 23\n",
      "12/23=0.5217391304347826\n",
      "Enter c or q: q\n"
     ]
    }
   ],
   "source": [
    "x=1\n",
    "while x==1:\n",
    "     user= input(\"Enter c or q: \")\n",
    "        \n",
    "     if user==\"q\":\n",
    "            break\n",
    "     else:\n",
    "            number1 = int(input(\"Enter Number: \"))\n",
    "            symbol = input(\"Enter symbol +,-,*,%,/: \")\n",
    "            number2 = int(input(\"Enter number: \"))\n",
    "\n",
    "\n",
    "            if symbol==\"+\":\n",
    "                 print(\"{}+{}={}\".format(number1,number2,number1+number2))\n",
    "            elif symbol==\"-\":\n",
    "                 print(\"{}-{}={}\".format(number1,number2,number1-number2))\n",
    "            elif symbol==\"*\":\n",
    "                 print(\"{}*{}={}\".format(number1,number2,number1*number2))\n",
    "            elif symbol==\"/\":\n",
    "                 print(\"{}/{}={}\".format(number1,number2,number1/number2))\n",
    "            elif symbol==(\"%\"):\n",
    "                 print(\"{}%{}={}\".format(number1,number2,number1%number2))\n",
    "            else:\n",
    "                 print(\"invalid value\")\n",
    "        \n",
    "    \n",
    "    \n",
    "    \n",
    "    "
   ]
  },
  {
   "cell_type": "code",
   "execution_count": 9,
   "id": "f2a664d0",
   "metadata": {},
   "outputs": [
    {
     "name": "stdout",
     "output_type": "stream",
     "text": [
      "Enter to start c or to off q: c\n",
      "Enter number: 2345\n",
      "Enter symbol +,-,%,/: /\n",
      "Enter number: 23\n",
      "2345/23=101.95652173913044\n",
      "Enter to start c or to off q: c\n",
      "Enter number: 2356\n",
      "Enter symbol +,-,%,/: h\n",
      "Enter number: 23445\n",
      "Invalid entry!!\n",
      "Enter to start c or to off q: 2314\n",
      "Enter number: 23445\n",
      "Enter symbol +,-,%,/: /\n",
      "Enter number: 3455\n",
      "23445/3455=6.785817655571635\n",
      "Enter to start c or to off q: c\n",
      "Enter number: 84878\n",
      "Enter symbol +,-,%,/: *\n",
      "Enter number: 2345\n",
      "84878*2345=199038910\n",
      "Enter to start c or to off q: q\n"
     ]
    }
   ],
   "source": [
    "x=1\n",
    "while x==1:\n",
    "    off= input(\"Enter to start c or to off q: \")\n",
    "    if off==\"q\":\n",
    "        break\n",
    "    else:\n",
    "        number1 = int(input(\"Enter number: \"))\n",
    "        symbol = input(\"Enter symbol +,-,%,/: \")\n",
    "        number2 = int(input(\"Enter number: \"))\n",
    "        \n",
    "        if symbol==\"+\":\n",
    "            print(\"{}+{}={}\".format(number1,number2,number1+number2))\n",
    "        elif symbol==\"-\":\n",
    "            print(\"{}-{}={}\".format(number1,number2,number1-number2))\n",
    "        elif symbol==\"*\":\n",
    "            print(\"{}*{}={}\".format(number1,number2,number1*number2))\n",
    "        elif symbol==\"%\":\n",
    "            print(\"{}%{}={}\".format(number1,number2,number1%number2))\n",
    "        elif symbol==\"/\":\n",
    "            print(\"{}/{}={}\".format(number1,number2,number1/number2))\n",
    "        else:\n",
    "            print(\"Invalid entry!!\")\n",
    "            "
   ]
  },
  {
   "cell_type": "code",
   "execution_count": 1,
   "id": "6ba2d9eb",
   "metadata": {},
   "outputs": [
    {
     "name": "stdout",
     "output_type": "stream",
     "text": [
      "1 a\n",
      "1 b\n",
      "1 c\n",
      "1 d\n",
      "2 a\n",
      "2 b\n",
      "2 c\n",
      "2 d\n",
      "3 a\n",
      "3 b\n",
      "3 c\n",
      "3 d\n",
      "4 a\n",
      "4 b\n",
      "4 c\n",
      "4 d\n"
     ]
    }
   ],
   "source": [
    "for y in \"\":\n",
    "    for z in \"[\"\"]\":\n",
    "        print(y,z)"
   ]
  },
  {
   "cell_type": "code",
   "execution_count": 3,
   "id": "9baa236d",
   "metadata": {},
   "outputs": [
    {
     "name": "stdout",
     "output_type": "stream",
     "text": [
      "hi\n",
      "hi\n",
      "hi\n",
      "hi\n",
      "hi\n",
      "hi\n",
      "hi\n",
      "hi\n",
      "hi\n",
      "hi\n"
     ]
    }
   ],
   "source": [
    "for y in range(0,10):\n",
    "    \n",
    "    print(\"hi\")\n"
   ]
  },
  {
   "cell_type": "code",
   "execution_count": 4,
   "id": "37b08ebf",
   "metadata": {},
   "outputs": [
    {
     "name": "stdout",
     "output_type": "stream",
     "text": [
      "a\n",
      "b\n",
      "c\n",
      "d\n"
     ]
    }
   ],
   "source": [
    "x= \"abcd\"\n",
    "for i in x:\n",
    "    print (i)"
   ]
  },
  {
   "cell_type": "code",
   "execution_count": 5,
   "id": "6fbdc4ac",
   "metadata": {},
   "outputs": [],
   "source": [
    "# list"
   ]
  },
  {
   "cell_type": "code",
   "execution_count": 8,
   "id": "e95cc2ee",
   "metadata": {},
   "outputs": [],
   "source": [
    "w=[1,2,3]"
   ]
  },
  {
   "cell_type": "code",
   "execution_count": 9,
   "id": "0208d7ac",
   "metadata": {},
   "outputs": [
    {
     "data": {
      "text/plain": [
       "[1, 2, 3]"
      ]
     },
     "execution_count": 9,
     "metadata": {},
     "output_type": "execute_result"
    }
   ],
   "source": [
    "w"
   ]
  },
  {
   "cell_type": "code",
   "execution_count": 10,
   "id": "a7c7b890",
   "metadata": {},
   "outputs": [
    {
     "data": {
      "text/plain": [
       "list"
      ]
     },
     "execution_count": 10,
     "metadata": {},
     "output_type": "execute_result"
    }
   ],
   "source": [
    "type(w)"
   ]
  },
  {
   "cell_type": "code",
   "execution_count": 11,
   "id": "c0ea4261",
   "metadata": {},
   "outputs": [
    {
     "name": "stdout",
     "output_type": "stream",
     "text": [
      "1\n",
      "2\n",
      "3\n"
     ]
    }
   ],
   "source": [
    "for z in w:\n",
    "    print(z)\n",
    "    "
   ]
  },
  {
   "cell_type": "code",
   "execution_count": 12,
   "id": "fa814734",
   "metadata": {},
   "outputs": [],
   "source": [
    "# replacing by slicing and indexing\n",
    "\n",
    "w = [\"a\",\"b\",\"c\",\"d\",1,2,3]"
   ]
  },
  {
   "cell_type": "code",
   "execution_count": 13,
   "id": "9d2c3353",
   "metadata": {},
   "outputs": [],
   "source": [
    "w[0:4]=5,6,7,8"
   ]
  },
  {
   "cell_type": "code",
   "execution_count": 14,
   "id": "71b22c17",
   "metadata": {},
   "outputs": [
    {
     "data": {
      "text/plain": [
       "[5, 6, 7, 8, 1, 2, 3]"
      ]
     },
     "execution_count": 14,
     "metadata": {},
     "output_type": "execute_result"
    }
   ],
   "source": [
    "w"
   ]
  },
  {
   "cell_type": "code",
   "execution_count": 20,
   "id": "c863bce2",
   "metadata": {},
   "outputs": [],
   "source": [
    "w[0:2]=1,2,3,4"
   ]
  },
  {
   "cell_type": "code",
   "execution_count": 21,
   "id": "741897d5",
   "metadata": {},
   "outputs": [
    {
     "data": {
      "text/plain": [
       "[1, 2, 3, 4, 8, 1, 2, 3]"
      ]
     },
     "execution_count": 21,
     "metadata": {},
     "output_type": "execute_result"
    }
   ],
   "source": [
    "#added by pushing elements to right\n",
    "w"
   ]
  },
  {
   "cell_type": "code",
   "execution_count": 22,
   "id": "14477f39",
   "metadata": {},
   "outputs": [],
   "source": [
    "w[0:3]=\"a\",\"b\""
   ]
  },
  {
   "cell_type": "code",
   "execution_count": 23,
   "id": "3677a8cd",
   "metadata": {},
   "outputs": [
    {
     "data": {
      "text/plain": [
       "['a', 'b', 4, 8, 1, 2, 3]"
      ]
     },
     "execution_count": 23,
     "metadata": {},
     "output_type": "execute_result"
    }
   ],
   "source": [
    "#deleted \n",
    "w"
   ]
  },
  {
   "cell_type": "code",
   "execution_count": 24,
   "id": "a7a3d719",
   "metadata": {},
   "outputs": [],
   "source": [
    "w=[1,2,3,4,4]"
   ]
  },
  {
   "cell_type": "code",
   "execution_count": 30,
   "id": "3dabb55c",
   "metadata": {},
   "outputs": [],
   "source": [
    "w[0]=2"
   ]
  },
  {
   "cell_type": "code",
   "execution_count": 31,
   "id": "3bf358c2",
   "metadata": {},
   "outputs": [
    {
     "data": {
      "text/plain": [
       "[2, 2, 3, 4, 4]"
      ]
     },
     "execution_count": 31,
     "metadata": {},
     "output_type": "execute_result"
    }
   ],
   "source": [
    "w"
   ]
  },
  {
   "cell_type": "code",
   "execution_count": 45,
   "id": "403d0cd6",
   "metadata": {},
   "outputs": [],
   "source": [
    "# adding\n",
    "\n",
    "w =[1,2,3,4,5]\n",
    "w.insert(2,\"abc\")"
   ]
  },
  {
   "cell_type": "code",
   "execution_count": 48,
   "id": "2efb324a",
   "metadata": {},
   "outputs": [],
   "source": [
    "w.insert(2,\"abc\")"
   ]
  },
  {
   "cell_type": "code",
   "execution_count": 49,
   "id": "f0d6f95a",
   "metadata": {},
   "outputs": [
    {
     "data": {
      "text/plain": [
       "[1, 2, 'abc', 'abc', 3, 4, 5]"
      ]
     },
     "execution_count": 49,
     "metadata": {},
     "output_type": "execute_result"
    }
   ],
   "source": [
    "w"
   ]
  },
  {
   "cell_type": "code",
   "execution_count": 50,
   "id": "3da963d3",
   "metadata": {},
   "outputs": [],
   "source": [
    "w.extend(\"xyz\")"
   ]
  },
  {
   "cell_type": "code",
   "execution_count": 54,
   "id": "deb9dc4e",
   "metadata": {},
   "outputs": [
    {
     "data": {
      "text/plain": [
       "[1,\n",
       " 2,\n",
       " 'abc',\n",
       " 'abc',\n",
       " 3,\n",
       " 4,\n",
       " 5,\n",
       " 'x',\n",
       " 'y',\n",
       " 'z',\n",
       " 100,\n",
       " 101,\n",
       " 102,\n",
       " 103,\n",
       " 104,\n",
       " 105,\n",
       " 106,\n",
       " 107,\n",
       " 108,\n",
       " 109]"
      ]
     },
     "execution_count": 54,
     "metadata": {},
     "output_type": "execute_result"
    }
   ],
   "source": [
    "w"
   ]
  },
  {
   "cell_type": "code",
   "execution_count": 55,
   "id": "4a164e1d",
   "metadata": {},
   "outputs": [],
   "source": [
    "w.extend(range(100,110))"
   ]
  },
  {
   "cell_type": "code",
   "execution_count": 53,
   "id": "a15b4963",
   "metadata": {},
   "outputs": [
    {
     "data": {
      "text/plain": [
       "[1,\n",
       " 2,\n",
       " 'abc',\n",
       " 'abc',\n",
       " 3,\n",
       " 4,\n",
       " 5,\n",
       " 'x',\n",
       " 'y',\n",
       " 'z',\n",
       " 100,\n",
       " 101,\n",
       " 102,\n",
       " 103,\n",
       " 104,\n",
       " 105,\n",
       " 106,\n",
       " 107,\n",
       " 108,\n",
       " 109]"
      ]
     },
     "execution_count": 53,
     "metadata": {},
     "output_type": "execute_result"
    }
   ],
   "source": [
    "w"
   ]
  },
  {
   "cell_type": "code",
   "execution_count": 56,
   "id": "ff373f88",
   "metadata": {},
   "outputs": [],
   "source": [
    "w=[1,2,3,4,4,4,5]\n",
    "w.remove(4)"
   ]
  },
  {
   "cell_type": "code",
   "execution_count": 57,
   "id": "b796dd56",
   "metadata": {},
   "outputs": [
    {
     "data": {
      "text/plain": [
       "[1, 2, 3, 4, 4, 5]"
      ]
     },
     "execution_count": 57,
     "metadata": {},
     "output_type": "execute_result"
    }
   ],
   "source": [
    "w"
   ]
  },
  {
   "cell_type": "code",
   "execution_count": 58,
   "id": "a7f1c1fe",
   "metadata": {},
   "outputs": [
    {
     "data": {
      "text/plain": [
       "3"
      ]
     },
     "execution_count": 58,
     "metadata": {},
     "output_type": "execute_result"
    }
   ],
   "source": [
    "w.pop(2)"
   ]
  },
  {
   "cell_type": "code",
   "execution_count": 59,
   "id": "35849321",
   "metadata": {},
   "outputs": [
    {
     "data": {
      "text/plain": [
       "[1, 2, 4, 4, 5]"
      ]
     },
     "execution_count": 59,
     "metadata": {},
     "output_type": "execute_result"
    }
   ],
   "source": [
    "w"
   ]
  },
  {
   "cell_type": "code",
   "execution_count": 60,
   "id": "5fb4b587",
   "metadata": {},
   "outputs": [
    {
     "data": {
      "text/plain": [
       "5"
      ]
     },
     "execution_count": 60,
     "metadata": {},
     "output_type": "execute_result"
    }
   ],
   "source": [
    "# pop() is -1\n",
    "w.pop()"
   ]
  },
  {
   "cell_type": "code",
   "execution_count": 61,
   "id": "b8f470c6",
   "metadata": {},
   "outputs": [
    {
     "data": {
      "text/plain": [
       "[1, 2, 4, 4]"
      ]
     },
     "execution_count": 61,
     "metadata": {},
     "output_type": "execute_result"
    }
   ],
   "source": [
    "w"
   ]
  },
  {
   "cell_type": "code",
   "execution_count": 62,
   "id": "04bf16ea",
   "metadata": {},
   "outputs": [],
   "source": [
    "w.clear()"
   ]
  },
  {
   "cell_type": "code",
   "execution_count": 63,
   "id": "a31b7eb4",
   "metadata": {},
   "outputs": [
    {
     "data": {
      "text/plain": [
       "[]"
      ]
     },
     "execution_count": 63,
     "metadata": {},
     "output_type": "execute_result"
    }
   ],
   "source": [
    "w"
   ]
  },
  {
   "cell_type": "code",
   "execution_count": 64,
   "id": "ab355215",
   "metadata": {},
   "outputs": [],
   "source": [
    "x=[1,2,3,4,\"abc\"]"
   ]
  },
  {
   "cell_type": "code",
   "execution_count": 66,
   "id": "9b1745f4",
   "metadata": {},
   "outputs": [],
   "source": [
    "del x[1]"
   ]
  },
  {
   "cell_type": "code",
   "execution_count": 67,
   "id": "35ef2b39",
   "metadata": {},
   "outputs": [
    {
     "data": {
      "text/plain": [
       "[1, 3, 4, 'abc']"
      ]
     },
     "execution_count": 67,
     "metadata": {},
     "output_type": "execute_result"
    }
   ],
   "source": [
    "x"
   ]
  },
  {
   "cell_type": "code",
   "execution_count": 68,
   "id": "1d83da5f",
   "metadata": {},
   "outputs": [],
   "source": [
    "# del is used anywhere with spl meaning delete\n"
   ]
  },
  {
   "cell_type": "code",
   "execution_count": 69,
   "id": "c9d234f1",
   "metadata": {},
   "outputs": [
    {
     "data": {
      "text/plain": [
       "2"
      ]
     },
     "execution_count": 69,
     "metadata": {},
     "output_type": "execute_result"
    }
   ],
   "source": [
    "x.index(4)"
   ]
  },
  {
   "cell_type": "code",
   "execution_count": 72,
   "id": "da58a88f",
   "metadata": {},
   "outputs": [
    {
     "data": {
      "text/plain": [
       "1"
      ]
     },
     "execution_count": 72,
     "metadata": {},
     "output_type": "execute_result"
    }
   ],
   "source": [
    "x.count(\"abc\")"
   ]
  },
  {
   "cell_type": "code",
   "execution_count": 73,
   "id": "97c3bd96",
   "metadata": {},
   "outputs": [],
   "source": [
    "# view operation\n",
    "# x=y "
   ]
  },
  {
   "cell_type": "code",
   "execution_count": 76,
   "id": "02ba1be9",
   "metadata": {},
   "outputs": [],
   "source": [
    "x=[1,2,3,\"abc\"]\n",
    "z=x.copy()"
   ]
  },
  {
   "cell_type": "code",
   "execution_count": 77,
   "id": "1db3013e",
   "metadata": {},
   "outputs": [
    {
     "data": {
      "text/plain": [
       "[1, 2, 3, 'abc']"
      ]
     },
     "execution_count": 77,
     "metadata": {},
     "output_type": "execute_result"
    }
   ],
   "source": [
    "z"
   ]
  },
  {
   "cell_type": "code",
   "execution_count": 78,
   "id": "5abff1da",
   "metadata": {},
   "outputs": [],
   "source": [
    "x.reverse()"
   ]
  },
  {
   "cell_type": "code",
   "execution_count": 79,
   "id": "a079bc58",
   "metadata": {},
   "outputs": [
    {
     "data": {
      "text/plain": [
       "['abc', 3, 2, 1]"
      ]
     },
     "execution_count": 79,
     "metadata": {},
     "output_type": "execute_result"
    }
   ],
   "source": [
    "x"
   ]
  },
  {
   "cell_type": "code",
   "execution_count": 80,
   "id": "f44c3e16",
   "metadata": {},
   "outputs": [
    {
     "ename": "TypeError",
     "evalue": "'<' not supported between instances of 'int' and 'str'",
     "output_type": "error",
     "traceback": [
      "\u001b[1;31m---------------------------------------------------------------------------\u001b[0m",
      "\u001b[1;31mTypeError\u001b[0m                                 Traceback (most recent call last)",
      "Cell \u001b[1;32mIn[80], line 1\u001b[0m\n\u001b[1;32m----> 1\u001b[0m \u001b[43mx\u001b[49m\u001b[38;5;241;43m.\u001b[39;49m\u001b[43msort\u001b[49m\u001b[43m(\u001b[49m\u001b[43m)\u001b[49m\n",
      "\u001b[1;31mTypeError\u001b[0m: '<' not supported between instances of 'int' and 'str'"
     ]
    }
   ],
   "source": [
    "x.sort()"
   ]
  },
  {
   "cell_type": "code",
   "execution_count": 81,
   "id": "8f0a7fe3",
   "metadata": {},
   "outputs": [],
   "source": [
    "# sort should contain only same type of data and will move from small to greater\n",
    "x=[\"a\",\"b\",\"c\",\"A\",\"S\",\"1\",\"2\"]\n",
    "x.sort()\n"
   ]
  },
  {
   "cell_type": "code",
   "execution_count": 82,
   "id": "66d7cce5",
   "metadata": {},
   "outputs": [
    {
     "data": {
      "text/plain": [
       "['1', '2', 'A', 'S', 'a', 'b', 'c']"
      ]
     },
     "execution_count": 82,
     "metadata": {},
     "output_type": "execute_result"
    }
   ],
   "source": [
    "x"
   ]
  },
  {
   "cell_type": "code",
   "execution_count": 85,
   "id": "ea51c9f0",
   "metadata": {},
   "outputs": [],
   "source": [
    "x.sort(reverse=True)"
   ]
  },
  {
   "cell_type": "code",
   "execution_count": 87,
   "id": "e6bf4443",
   "metadata": {},
   "outputs": [
    {
     "data": {
      "text/plain": [
       "['c', 'b', 'a', 'S', 'A', '2', '1']"
      ]
     },
     "execution_count": 87,
     "metadata": {},
     "output_type": "execute_result"
    }
   ],
   "source": [
    "x"
   ]
  },
  {
   "cell_type": "code",
   "execution_count": 3,
   "id": "02e44d48",
   "metadata": {},
   "outputs": [
    {
     "name": "stdout",
     "output_type": "stream",
     "text": [
      "a\n",
      "b\n",
      "c\n",
      "d\n",
      "e\n",
      "f\n",
      "g\n",
      "h\n",
      "i\n",
      "j\n",
      "k\n",
      "l\n",
      "m\n",
      "n\n",
      "o\n",
      "p\n",
      "q\n",
      "r\n",
      "s\n",
      "t\n",
      "u\n",
      "v\n",
      "w\n",
      "x\n",
      "y\n",
      "z\n"
     ]
    }
   ],
   "source": [
    "x=\"abcdefghijklmnopqrstuvwxyz\"\n",
    "for i in x:\n",
    "    print(i)"
   ]
  },
  {
   "cell_type": "code",
   "execution_count": 5,
   "id": "09d76694",
   "metadata": {},
   "outputs": [
    {
     "name": "stdout",
     "output_type": "stream",
     "text": [
      "A\n",
      "B\n",
      "C\n",
      "D\n",
      "E\n",
      "F\n",
      "G\n",
      "H\n",
      "I\n",
      "J\n",
      "K\n",
      "L\n",
      "M\n",
      "N\n",
      "O\n",
      "P\n",
      "Q\n",
      "R\n",
      "S\n",
      "T\n",
      "U\n",
      "V\n",
      "W\n",
      "X\n",
      "Y\n",
      "Z\n"
     ]
    }
   ],
   "source": [
    "y=x.upper()\n",
    "for i in y:\n",
    "    print(i)"
   ]
  },
  {
   "cell_type": "code",
   "execution_count": 6,
   "id": "50c41033",
   "metadata": {},
   "outputs": [
    {
     "name": "stdout",
     "output_type": "stream",
     "text": [
      "a\n",
      "b\n",
      "c\n",
      "d\n",
      "e\n",
      "f\n",
      "g\n",
      "h\n",
      "i\n",
      "j\n",
      "k\n",
      "l\n",
      "m\n",
      "n\n",
      "o\n",
      "p\n",
      "q\n",
      "r\n",
      "s\n",
      "t\n",
      "u\n",
      "v\n",
      "w\n",
      "x\n",
      "y\n",
      "z\n"
     ]
    }
   ],
   "source": [
    "x=\"abcdefghijklmnopqrstuvwxyz\"\n",
    "i = 0\n",
    "while i < len(x):\n",
    "    print(x[i])\n",
    "    i += 1"
   ]
  },
  {
   "cell_type": "code",
   "execution_count": 7,
   "id": "5762a0ab",
   "metadata": {},
   "outputs": [
    {
     "name": "stdout",
     "output_type": "stream",
     "text": [
      "A\n",
      "B\n",
      "C\n",
      "D\n",
      "E\n",
      "F\n",
      "G\n",
      "H\n",
      "I\n",
      "J\n",
      "K\n",
      "L\n",
      "M\n",
      "N\n",
      "O\n",
      "P\n",
      "Q\n",
      "R\n",
      "S\n",
      "T\n",
      "U\n",
      "V\n",
      "W\n",
      "X\n",
      "Y\n",
      "Z\n"
     ]
    }
   ],
   "source": [
    "i = 0\n",
    "while i < len(y):\n",
    "    print(y[i])\n",
    "    i += 1"
   ]
  },
  {
   "cell_type": "code",
   "execution_count": null,
   "id": "6b7f44a5",
   "metadata": {},
   "outputs": [],
   "source": [
    "\n"
   ]
  }
 ],
 "metadata": {
  "kernelspec": {
   "display_name": "Python 3 (ipykernel)",
   "language": "python",
   "name": "python3"
  },
  "language_info": {
   "codemirror_mode": {
    "name": "ipython",
    "version": 3
   },
   "file_extension": ".py",
   "mimetype": "text/x-python",
   "name": "python",
   "nbconvert_exporter": "python",
   "pygments_lexer": "ipython3",
   "version": "3.10.9"
  }
 },
 "nbformat": 4,
 "nbformat_minor": 5
}
