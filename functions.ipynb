{
 "cells": [
  {
   "cell_type": "code",
   "execution_count": 1,
   "id": "e3892bcf",
   "metadata": {},
   "outputs": [],
   "source": [
    "# functions: a name is given to a piece or block of a code.\n",
    "# reuse the code"
   ]
  },
  {
   "cell_type": "code",
   "execution_count": 2,
   "id": "f276971c",
   "metadata": {},
   "outputs": [],
   "source": [
    "# def function name():\n",
    "#indentation statements"
   ]
  },
  {
   "cell_type": "code",
   "execution_count": 11,
   "id": "7ed0216b",
   "metadata": {},
   "outputs": [],
   "source": [
    "def d1():\n",
    "    print(\"hi\")\n",
    "    print(\"123\")"
   ]
  },
  {
   "cell_type": "code",
   "execution_count": 12,
   "id": "39c8b690",
   "metadata": {},
   "outputs": [
    {
     "name": "stdout",
     "output_type": "stream",
     "text": [
      "hi\n",
      "123\n"
     ]
    }
   ],
   "source": [
    "d1() # it will store memory"
   ]
  },
  {
   "cell_type": "code",
   "execution_count": 13,
   "id": "58473007",
   "metadata": {},
   "outputs": [],
   "source": [
    "def sum1(x,y):\n",
    "    print(x+y)\n",
    "    "
   ]
  },
  {
   "cell_type": "code",
   "execution_count": 14,
   "id": "e9e95843",
   "metadata": {},
   "outputs": [
    {
     "name": "stdout",
     "output_type": "stream",
     "text": [
      "50\n"
     ]
    }
   ],
   "source": [
    "sum1(20,30)"
   ]
  },
  {
   "cell_type": "code",
   "execution_count": 17,
   "id": "1ebc3677",
   "metadata": {},
   "outputs": [],
   "source": [
    "# default parameter\n",
    "def sum1(x=20,y=40):\n",
    "    print(x+y)\n"
   ]
  },
  {
   "cell_type": "code",
   "execution_count": 18,
   "id": "9f6d1194",
   "metadata": {},
   "outputs": [
    {
     "name": "stdout",
     "output_type": "stream",
     "text": [
      "60\n"
     ]
    }
   ],
   "source": [
    "sum1()"
   ]
  },
  {
   "cell_type": "code",
   "execution_count": 19,
   "id": "a004d0be",
   "metadata": {},
   "outputs": [
    {
     "name": "stdout",
     "output_type": "stream",
     "text": [
      "50\n"
     ]
    }
   ],
   "source": [
    "sum1(10)"
   ]
  },
  {
   "cell_type": "code",
   "execution_count": 20,
   "id": "f4ba353a",
   "metadata": {},
   "outputs": [],
   "source": [
    "# positional argument\n",
    "# keyword argument"
   ]
  },
  {
   "cell_type": "code",
   "execution_count": 21,
   "id": "f5a5ccfd",
   "metadata": {},
   "outputs": [],
   "source": [
    "#KEYWORD ARGUMENT\n",
    "def bio_data(name,age,height):\n",
    "    print(\"My name is {}, My age is {}, My height is {}.\".format(name,age,height))"
   ]
  },
  {
   "cell_type": "code",
   "execution_count": 23,
   "id": "48800bab",
   "metadata": {},
   "outputs": [
    {
     "name": "stdout",
     "output_type": "stream",
     "text": [
      "My name is p1, M y age is 26, My height is 165.2.\n"
     ]
    }
   ],
   "source": [
    "bio_data(name=\"p1\",age=26,height=165.2)"
   ]
  },
  {
   "cell_type": "code",
   "execution_count": 26,
   "id": "de5d8769",
   "metadata": {},
   "outputs": [
    {
     "name": "stdout",
     "output_type": "stream",
     "text": [
      "My name is p1, M y age is 26, My height is 165.8.\n"
     ]
    }
   ],
   "source": [
    "#POSITIONAL ARGUMENT\n",
    "bio_data(\"p1\",26,165.8)"
   ]
  },
  {
   "cell_type": "code",
   "execution_count": 27,
   "id": "0eda1130",
   "metadata": {},
   "outputs": [],
   "source": [
    "def sum1(a,b,c,d,e,x=10,y=20):\n",
    "    print(a,b,c,d,e,x,y)"
   ]
  },
  {
   "cell_type": "code",
   "execution_count": 28,
   "id": "7761f607",
   "metadata": {},
   "outputs": [
    {
     "name": "stdout",
     "output_type": "stream",
     "text": [
      "1 2 3 4 5 10 20\n"
     ]
    }
   ],
   "source": [
    "sum1(1,2,3,4,5)"
   ]
  },
  {
   "cell_type": "code",
   "execution_count": 30,
   "id": "7f8d349f",
   "metadata": {},
   "outputs": [],
   "source": [
    "def sum1(a,b,c,d,e,x=10,y=20):\n",
    "    print(a,b,c,d,e,x,y)"
   ]
  },
  {
   "cell_type": "code",
   "execution_count": 31,
   "id": "79d25734",
   "metadata": {},
   "outputs": [
    {
     "ename": "TypeError",
     "evalue": "sum1() got multiple values for argument 'a'",
     "output_type": "error",
     "traceback": [
      "\u001b[1;31m---------------------------------------------------------------------------\u001b[0m",
      "\u001b[1;31mTypeError\u001b[0m                                 Traceback (most recent call last)",
      "Cell \u001b[1;32mIn[31], line 1\u001b[0m\n\u001b[1;32m----> 1\u001b[0m \u001b[43msum1\u001b[49m\u001b[43m(\u001b[49m\u001b[38;5;241;43m1\u001b[39;49m\u001b[43m,\u001b[49m\u001b[38;5;241;43m2\u001b[39;49m\u001b[43m,\u001b[49m\u001b[38;5;241;43m3\u001b[39;49m\u001b[43m,\u001b[49m\u001b[38;5;241;43m4\u001b[39;49m\u001b[43m,\u001b[49m\u001b[43ma\u001b[49m\u001b[38;5;241;43m=\u001b[39;49m\u001b[38;5;241;43m30\u001b[39;49m\u001b[43m)\u001b[49m\n",
      "\u001b[1;31mTypeError\u001b[0m: sum1() got multiple values for argument 'a'"
     ]
    }
   ],
   "source": [
    "sum1(1,2,3,4,a=30)"
   ]
  },
  {
   "cell_type": "code",
   "execution_count": 32,
   "id": "08615940",
   "metadata": {},
   "outputs": [],
   "source": [
    "def sum1(a,b,c,d,e,x=10,y=20):\n",
    "    print(x,y,c,d,e,a,b)"
   ]
  },
  {
   "cell_type": "code",
   "execution_count": 33,
   "id": "fd6c9682",
   "metadata": {},
   "outputs": [
    {
     "name": "stdout",
     "output_type": "stream",
     "text": [
      "10 20 3 4 5 1 2\n"
     ]
    }
   ],
   "source": [
    "sum1(1,2,3,4,5)"
   ]
  },
  {
   "cell_type": "code",
   "execution_count": 40,
   "id": "77d6a20e",
   "metadata": {},
   "outputs": [],
   "source": [
    "# args\n",
    "# denoted by * \n",
    "# can call n no of non keyworded arguments\n",
    "# behave like a tuple\n",
    "\n",
    "def prod1(*x):\n",
    "    i=1\n",
    "    for y in x:\n",
    "        i=i*y\n",
    "    print(i)"
   ]
  },
  {
   "cell_type": "code",
   "execution_count": 41,
   "id": "4aef5da1",
   "metadata": {},
   "outputs": [
    {
     "name": "stdout",
     "output_type": "stream",
     "text": [
      "120\n"
     ]
    }
   ],
   "source": [
    "prod1(2,3,4,5)"
   ]
  },
  {
   "cell_type": "code",
   "execution_count": 52,
   "id": "85bb359d",
   "metadata": {},
   "outputs": [],
   "source": [
    "def sum1(*x):\n",
    "    i=0\n",
    "    for y in x:\n",
    "        i=i+y\n",
    "        \n",
    "    print(i)"
   ]
  },
  {
   "cell_type": "code",
   "execution_count": 46,
   "id": "f688b61a",
   "metadata": {},
   "outputs": [],
   "source": [
    "def sum1(*x,**y):\n",
    "    print(x)\n",
    "    print(y)"
   ]
  },
  {
   "cell_type": "code",
   "execution_count": 47,
   "id": "2d380657",
   "metadata": {},
   "outputs": [
    {
     "name": "stdout",
     "output_type": "stream",
     "text": [
      "(2, 3, 4, 5)\n",
      "{'a': 3, 'b': 2, 'c': 4}\n"
     ]
    }
   ],
   "source": [
    "sum1(2,3,4,5,a=3,b=2,c=4)"
   ]
  },
  {
   "cell_type": "code",
   "execution_count": 48,
   "id": "e4a214a3",
   "metadata": {},
   "outputs": [],
   "source": [
    "def sum1(*x,**y):\n",
    "    print(x)\n",
    "    print(y)"
   ]
  },
  {
   "cell_type": "code",
   "execution_count": 49,
   "id": "2a7832ab",
   "metadata": {},
   "outputs": [
    {
     "name": "stdout",
     "output_type": "stream",
     "text": [
      "(2, 3, 4, 5)\n",
      "{}\n"
     ]
    }
   ],
   "source": [
    "sum1(2,3,4,5)"
   ]
  },
  {
   "cell_type": "code",
   "execution_count": 50,
   "id": "e10d561f",
   "metadata": {},
   "outputs": [
    {
     "name": "stdout",
     "output_type": "stream",
     "text": [
      "()\n",
      "{'k': 2, 'l': 0}\n"
     ]
    }
   ],
   "source": [
    "sum1(k=2,l=0)"
   ]
  },
  {
   "cell_type": "code",
   "execution_count": 51,
   "id": "4ad0f73f",
   "metadata": {},
   "outputs": [
    {
     "name": "stdout",
     "output_type": "stream",
     "text": [
      "(1, 2, 3)\n",
      "{}\n"
     ]
    }
   ],
   "source": [
    "sum1(1,2,3)"
   ]
  },
  {
   "cell_type": "code",
   "execution_count": null,
   "id": "aa8b49ce",
   "metadata": {},
   "outputs": [],
   "source": []
  }
 ],
 "metadata": {
  "kernelspec": {
   "display_name": "Python 3 (ipykernel)",
   "language": "python",
   "name": "python3"
  },
  "language_info": {
   "codemirror_mode": {
    "name": "ipython",
    "version": 3
   },
   "file_extension": ".py",
   "mimetype": "text/x-python",
   "name": "python",
   "nbconvert_exporter": "python",
   "pygments_lexer": "ipython3",
   "version": "3.10.9"
  }
 },
 "nbformat": 4,
 "nbformat_minor": 5
}
