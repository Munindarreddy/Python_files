{
 "cells": [
  {
   "cell_type": "code",
   "execution_count": 1,
   "id": "56fed7d3",
   "metadata": {},
   "outputs": [],
   "source": [
    "x=10\n",
    "y=20"
   ]
  },
  {
   "cell_type": "code",
   "execution_count": 4,
   "id": "11595954",
   "metadata": {},
   "outputs": [
    {
     "data": {
      "text/plain": [
       "1919304467280"
      ]
     },
     "execution_count": 4,
     "metadata": {},
     "output_type": "execute_result"
    }
   ],
   "source": [
    "id(y)"
   ]
  },
  {
   "cell_type": "code",
   "execution_count": 3,
   "id": "0d074c43",
   "metadata": {},
   "outputs": [
    {
     "data": {
      "text/plain": [
       "1919304467280"
      ]
     },
     "execution_count": 3,
     "metadata": {},
     "output_type": "execute_result"
    }
   ],
   "source": [
    "x=20\n",
    "id(x)"
   ]
  },
  {
   "cell_type": "code",
   "execution_count": 5,
   "id": "254b4774",
   "metadata": {},
   "outputs": [],
   "source": [
    "x=\"abcd\""
   ]
  },
  {
   "cell_type": "code",
   "execution_count": 6,
   "id": "b9318d9d",
   "metadata": {},
   "outputs": [
    {
     "data": {
      "text/plain": [
       "'ABCD'"
      ]
     },
     "execution_count": 6,
     "metadata": {},
     "output_type": "execute_result"
    }
   ],
   "source": [
    "x.upper()"
   ]
  },
  {
   "cell_type": "code",
   "execution_count": 7,
   "id": "ae68c260",
   "metadata": {},
   "outputs": [
    {
     "data": {
      "text/plain": [
       "'abcd'"
      ]
     },
     "execution_count": 7,
     "metadata": {},
     "output_type": "execute_result"
    }
   ],
   "source": [
    "x"
   ]
  },
  {
   "cell_type": "code",
   "execution_count": 9,
   "id": "bcf94a0b",
   "metadata": {},
   "outputs": [],
   "source": [
    "x=\"aBCd\""
   ]
  },
  {
   "cell_type": "code",
   "execution_count": 10,
   "id": "30d56ed8",
   "metadata": {},
   "outputs": [
    {
     "data": {
      "text/plain": [
       "'abcd'"
      ]
     },
     "execution_count": 10,
     "metadata": {},
     "output_type": "execute_result"
    }
   ],
   "source": [
    "x.lower()"
   ]
  },
  {
   "cell_type": "code",
   "execution_count": 11,
   "id": "77f21e11",
   "metadata": {},
   "outputs": [],
   "source": [
    "x=x.lower()"
   ]
  },
  {
   "cell_type": "code",
   "execution_count": 12,
   "id": "982fe58a",
   "metadata": {},
   "outputs": [
    {
     "data": {
      "text/plain": [
       "'abcd'"
      ]
     },
     "execution_count": 12,
     "metadata": {},
     "output_type": "execute_result"
    }
   ],
   "source": [
    "x"
   ]
  },
  {
   "cell_type": "code",
   "execution_count": 15,
   "id": "6252d7c3",
   "metadata": {},
   "outputs": [],
   "source": [
    "x= \"hi i am manasa\""
   ]
  },
  {
   "cell_type": "code",
   "execution_count": 18,
   "id": "7f9b47cb",
   "metadata": {},
   "outputs": [],
   "source": [
    "x=x.upper()"
   ]
  },
  {
   "cell_type": "code",
   "execution_count": 19,
   "id": "95343997",
   "metadata": {},
   "outputs": [
    {
     "data": {
      "text/plain": [
       "'HI I AM MANASA'"
      ]
     },
     "execution_count": 19,
     "metadata": {},
     "output_type": "execute_result"
    }
   ],
   "source": [
    "x"
   ]
  },
  {
   "cell_type": "code",
   "execution_count": 25,
   "id": "11710655",
   "metadata": {},
   "outputs": [
    {
     "data": {
      "text/plain": [
       "'HI'"
      ]
     },
     "execution_count": 25,
     "metadata": {},
     "output_type": "execute_result"
    }
   ],
   "source": [
    "x[0:2]"
   ]
  },
  {
   "cell_type": "code",
   "execution_count": 1,
   "id": "2551df4d",
   "metadata": {},
   "outputs": [
    {
     "data": {
      "text/plain": [
       "'She is very good girl'"
      ]
     },
     "execution_count": 1,
     "metadata": {},
     "output_type": "execute_result"
    }
   ],
   "source": [
    "x= \"she is very good girl\"\n",
    "x.capitalize()"
   ]
  },
  {
   "cell_type": "code",
   "execution_count": 27,
   "id": "8800be06",
   "metadata": {},
   "outputs": [],
   "source": [
    "x=\" one\""
   ]
  },
  {
   "cell_type": "code",
   "execution_count": 28,
   "id": "dd8e6dcd",
   "metadata": {},
   "outputs": [
    {
     "data": {
      "text/plain": [
       "' one'"
      ]
     },
     "execution_count": 28,
     "metadata": {},
     "output_type": "execute_result"
    }
   ],
   "source": [
    "x.capitalize()"
   ]
  },
  {
   "cell_type": "code",
   "execution_count": 29,
   "id": "5c758bf1",
   "metadata": {},
   "outputs": [],
   "source": [
    "x=\"abcdef\""
   ]
  },
  {
   "cell_type": "code",
   "execution_count": 32,
   "id": "aa579814",
   "metadata": {},
   "outputs": [
    {
     "data": {
      "text/plain": [
       "'CDE'"
      ]
     },
     "execution_count": 32,
     "metadata": {},
     "output_type": "execute_result"
    }
   ],
   "source": [
    "x[2:5].upper()"
   ]
  },
  {
   "cell_type": "code",
   "execution_count": 33,
   "id": "3f5c6939",
   "metadata": {},
   "outputs": [
    {
     "data": {
      "text/plain": [
       "'I Am Your Teacher'"
      ]
     },
     "execution_count": 33,
     "metadata": {},
     "output_type": "execute_result"
    }
   ],
   "source": [
    "x= \"i am your teacher\"\n",
    "x.title()"
   ]
  },
  {
   "cell_type": "code",
   "execution_count": 35,
   "id": "84f685fb",
   "metadata": {},
   "outputs": [
    {
     "data": {
      "text/plain": [
       "'Am'"
      ]
     },
     "execution_count": 35,
     "metadata": {},
     "output_type": "execute_result"
    }
   ],
   "source": [
    "x[2:4].title()"
   ]
  },
  {
   "cell_type": "code",
   "execution_count": 51,
   "id": "5976a21c",
   "metadata": {},
   "outputs": [
    {
     "data": {
      "text/plain": [
       "'TeacherI AM'"
      ]
     },
     "execution_count": 51,
     "metadata": {},
     "output_type": "execute_result"
    }
   ],
   "source": [
    "x[10:17].title()+ x[0:4].upper()"
   ]
  },
  {
   "cell_type": "code",
   "execution_count": 53,
   "id": "e3599e29",
   "metadata": {},
   "outputs": [
    {
     "data": {
      "text/plain": [
       "2"
      ]
     },
     "execution_count": 53,
     "metadata": {},
     "output_type": "execute_result"
    }
   ],
   "source": [
    "x.count(\"a\")"
   ]
  },
  {
   "cell_type": "code",
   "execution_count": 54,
   "id": "df9904d3",
   "metadata": {},
   "outputs": [
    {
     "data": {
      "text/plain": [
       "1"
      ]
     },
     "execution_count": 54,
     "metadata": {},
     "output_type": "execute_result"
    }
   ],
   "source": [
    "x.count(\"ea\")"
   ]
  },
  {
   "cell_type": "code",
   "execution_count": 58,
   "id": "e761754f",
   "metadata": {},
   "outputs": [
    {
     "data": {
      "text/plain": [
       "2"
      ]
     },
     "execution_count": 58,
     "metadata": {},
     "output_type": "execute_result"
    }
   ],
   "source": [
    "\n",
    "x = \"abc abc\"\n",
    "x.count(\"abc\")"
   ]
  },
  {
   "cell_type": "code",
   "execution_count": 3,
   "id": "93a16801",
   "metadata": {},
   "outputs": [
    {
     "data": {
      "text/plain": [
       "1"
      ]
     },
     "execution_count": 3,
     "metadata": {},
     "output_type": "execute_result"
    }
   ],
   "source": [
    "x = \"abcabcdefabsabc\"\n",
    "x.find(\"bc\")"
   ]
  },
  {
   "cell_type": "code",
   "execution_count": 70,
   "id": "3d47c980",
   "metadata": {},
   "outputs": [
    {
     "data": {
      "text/plain": [
       "0"
      ]
     },
     "execution_count": 70,
     "metadata": {},
     "output_type": "execute_result"
    }
   ],
   "source": [
    "x.find(\"abc\")"
   ]
  },
  {
   "cell_type": "code",
   "execution_count": 5,
   "id": "6bc3d8b2",
   "metadata": {},
   "outputs": [
    {
     "data": {
      "text/plain": [
       "1"
      ]
     },
     "execution_count": 5,
     "metadata": {},
     "output_type": "execute_result"
    }
   ],
   "source": [
    "x.find(\"bc\",1,5)"
   ]
  },
  {
   "cell_type": "code",
   "execution_count": 77,
   "id": "83b31eff",
   "metadata": {},
   "outputs": [
    {
     "data": {
      "text/plain": [
       "12"
      ]
     },
     "execution_count": 77,
     "metadata": {},
     "output_type": "execute_result"
    }
   ],
   "source": [
    "x.find(\"abc\",4,)"
   ]
  },
  {
   "cell_type": "code",
   "execution_count": 79,
   "id": "63840e11",
   "metadata": {},
   "outputs": [
    {
     "data": {
      "text/plain": [
       "0"
      ]
     },
     "execution_count": 79,
     "metadata": {},
     "output_type": "execute_result"
    }
   ],
   "source": [
    "x.find(\"a\",0)"
   ]
  },
  {
   "cell_type": "code",
   "execution_count": 80,
   "id": "df59ead2",
   "metadata": {},
   "outputs": [
    {
     "data": {
      "text/plain": [
       "3"
      ]
     },
     "execution_count": 80,
     "metadata": {},
     "output_type": "execute_result"
    }
   ],
   "source": [
    "x.find(\"a\",1)"
   ]
  },
  {
   "cell_type": "code",
   "execution_count": 83,
   "id": "ca2fd582",
   "metadata": {},
   "outputs": [
    {
     "data": {
      "text/plain": [
       "9"
      ]
     },
     "execution_count": 83,
     "metadata": {},
     "output_type": "execute_result"
    }
   ],
   "source": [
    "x.find(\"a\",4)"
   ]
  },
  {
   "cell_type": "code",
   "execution_count": 85,
   "id": "7da66bea",
   "metadata": {},
   "outputs": [
    {
     "data": {
      "text/plain": [
       "2"
      ]
     },
     "execution_count": 85,
     "metadata": {},
     "output_type": "execute_result"
    }
   ],
   "source": [
    "x[1:12].find(\"a\")"
   ]
  },
  {
   "cell_type": "code",
   "execution_count": 89,
   "id": "87c27a80",
   "metadata": {},
   "outputs": [
    {
     "data": {
      "text/plain": [
       "3"
      ]
     },
     "execution_count": 89,
     "metadata": {},
     "output_type": "execute_result"
    }
   ],
   "source": [
    "x.index(\"a\",2)"
   ]
  },
  {
   "cell_type": "code",
   "execution_count": 90,
   "id": "5087bd6d",
   "metadata": {},
   "outputs": [
    {
     "data": {
      "text/plain": [
       "3"
      ]
     },
     "execution_count": 90,
     "metadata": {},
     "output_type": "execute_result"
    }
   ],
   "source": [
    "x.index(\"abcd\")"
   ]
  },
  {
   "cell_type": "code",
   "execution_count": 92,
   "id": "e2c79130",
   "metadata": {},
   "outputs": [
    {
     "ename": "ValueError",
     "evalue": "substring not found",
     "output_type": "error",
     "traceback": [
      "\u001b[1;31m---------------------------------------------------------------------------\u001b[0m",
      "\u001b[1;31mValueError\u001b[0m                                Traceback (most recent call last)",
      "Cell \u001b[1;32mIn[92], line 1\u001b[0m\n\u001b[1;32m----> 1\u001b[0m \u001b[43mx\u001b[49m\u001b[38;5;241;43m.\u001b[39;49m\u001b[43mindex\u001b[49m\u001b[43m(\u001b[49m\u001b[38;5;124;43m\"\u001b[39;49m\u001b[38;5;124;43mabcd\u001b[39;49m\u001b[38;5;124;43m\"\u001b[39;49m\u001b[43m,\u001b[49m\u001b[38;5;241;43m4\u001b[39;49m\u001b[43m)\u001b[49m\n",
      "\u001b[1;31mValueError\u001b[0m: substring not found"
     ]
    }
   ],
   "source": [
    "x.index(\"abcd\",4)"
   ]
  },
  {
   "cell_type": "code",
   "execution_count": 93,
   "id": "5be85dd4",
   "metadata": {},
   "outputs": [
    {
     "data": {
      "text/plain": [
       "-1"
      ]
     },
     "execution_count": 93,
     "metadata": {},
     "output_type": "execute_result"
    }
   ],
   "source": [
    "x.find(\"abcd\",4)"
   ]
  },
  {
   "cell_type": "code",
   "execution_count": 11,
   "id": "01708c76",
   "metadata": {},
   "outputs": [],
   "source": [
    "x = \"she is very good girl\""
   ]
  },
  {
   "cell_type": "code",
   "execution_count": 12,
   "id": "979fa645",
   "metadata": {},
   "outputs": [
    {
     "data": {
      "text/plain": [
       "['she', 'is', 'very', 'good', 'girl']"
      ]
     },
     "execution_count": 12,
     "metadata": {},
     "output_type": "execute_result"
    }
   ],
   "source": [
    "x.split( )"
   ]
  },
  {
   "cell_type": "code",
   "execution_count": 13,
   "id": "1f4c2eaf",
   "metadata": {},
   "outputs": [
    {
     "data": {
      "text/plain": [
       "'She is very good girl'"
      ]
     },
     "execution_count": 13,
     "metadata": {},
     "output_type": "execute_result"
    }
   ],
   "source": [
    "x.capitalize()"
   ]
  },
  {
   "cell_type": "code",
   "execution_count": 14,
   "id": "0a6c470c",
   "metadata": {},
   "outputs": [],
   "source": [
    "x = x.upper()"
   ]
  },
  {
   "cell_type": "code",
   "execution_count": 15,
   "id": "5c40336a",
   "metadata": {},
   "outputs": [
    {
     "data": {
      "text/plain": [
       "'SHE IS VERY GOOD GIRL'"
      ]
     },
     "execution_count": 15,
     "metadata": {},
     "output_type": "execute_result"
    }
   ],
   "source": [
    "x"
   ]
  },
  {
   "cell_type": "code",
   "execution_count": 16,
   "id": "77d93d31",
   "metadata": {},
   "outputs": [],
   "source": [
    "x = 'SHE IS VERY GOOD GIRL'\n",
    "x = x.split(\" \",2)"
   ]
  },
  {
   "cell_type": "code",
   "execution_count": 17,
   "id": "38338709",
   "metadata": {},
   "outputs": [
    {
     "data": {
      "text/plain": [
       "['SHE', 'IS', 'VERY GOOD GIRL']"
      ]
     },
     "execution_count": 17,
     "metadata": {},
     "output_type": "execute_result"
    }
   ],
   "source": [
    "x"
   ]
  },
  {
   "cell_type": "code",
   "execution_count": 18,
   "id": "e141a81f",
   "metadata": {},
   "outputs": [
    {
     "data": {
      "text/plain": [
       "0"
      ]
     },
     "execution_count": 18,
     "metadata": {},
     "output_type": "execute_result"
    }
   ],
   "source": [
    "x.count(\"AM\")"
   ]
  },
  {
   "cell_type": "code",
   "execution_count": 19,
   "id": "c4254994",
   "metadata": {},
   "outputs": [
    {
     "data": {
      "text/plain": [
       "'I Am Very Good Girl'"
      ]
     },
     "execution_count": 19,
     "metadata": {},
     "output_type": "execute_result"
    }
   ],
   "source": [
    "x= 'I am very good girl'\n",
    "x.title()"
   ]
  },
  {
   "cell_type": "code",
   "execution_count": 20,
   "id": "3c30aafe",
   "metadata": {},
   "outputs": [
    {
     "data": {
      "text/plain": [
       "['she is very', 'good', 'girl']"
      ]
     },
     "execution_count": 20,
     "metadata": {},
     "output_type": "execute_result"
    }
   ],
   "source": [
    "x = \"she is very good girl\"\n",
    "x.rsplit(\" \",2)"
   ]
  },
  {
   "cell_type": "code",
   "execution_count": 23,
   "id": "ae97e698",
   "metadata": {},
   "outputs": [
    {
     "data": {
      "text/plain": [
       "['i', 'am', 'very', 'good', 'girl']"
      ]
     },
     "execution_count": 23,
     "metadata": {},
     "output_type": "execute_result"
    }
   ],
   "source": [
    "x.rsplit(\" \",-1)"
   ]
  },
  {
   "cell_type": "code",
   "execution_count": 25,
   "id": "e9427606",
   "metadata": {},
   "outputs": [
    {
     "data": {
      "text/plain": [
       "['', '12', '23', '45', '']"
      ]
     },
     "execution_count": 25,
     "metadata": {},
     "output_type": "execute_result"
    }
   ],
   "source": [
    "x=\"*12*23*45*\"\n",
    "x.split(\"*\")"
   ]
  },
  {
   "cell_type": "code",
   "execution_count": 27,
   "id": "7b50e660",
   "metadata": {},
   "outputs": [
    {
     "data": {
      "text/plain": [
       "['*12*23', '45', '']"
      ]
     },
     "execution_count": 27,
     "metadata": {},
     "output_type": "execute_result"
    }
   ],
   "source": [
    "x.rsplit(\"*\",2)"
   ]
  },
  {
   "cell_type": "code",
   "execution_count": 28,
   "id": "cc212164",
   "metadata": {},
   "outputs": [
    {
     "data": {
      "text/plain": [
       "['', '12', '23*45*']"
      ]
     },
     "execution_count": 28,
     "metadata": {},
     "output_type": "execute_result"
    }
   ],
   "source": [
    "x.split(\"*\",2)"
   ]
  },
  {
   "cell_type": "code",
   "execution_count": 29,
   "id": "7b188d2b",
   "metadata": {},
   "outputs": [
    {
     "data": {
      "text/plain": [
       "'*12*23*45*'"
      ]
     },
     "execution_count": 29,
     "metadata": {},
     "output_type": "execute_result"
    }
   ],
   "source": [
    "x.swapcase()"
   ]
  },
  {
   "cell_type": "code",
   "execution_count": 22,
   "id": "038763ae",
   "metadata": {},
   "outputs": [],
   "source": [
    "x = \"%I am Very% GOOD girl%\""
   ]
  },
  {
   "cell_type": "code",
   "execution_count": 23,
   "id": "ef4a67c5",
   "metadata": {},
   "outputs": [
    {
     "data": {
      "text/plain": [
       "'%i AM vERY% good GIRL%'"
      ]
     },
     "execution_count": 23,
     "metadata": {},
     "output_type": "execute_result"
    }
   ],
   "source": [
    "x.swapcase()"
   ]
  },
  {
   "cell_type": "code",
   "execution_count": 42,
   "id": "48467443",
   "metadata": {},
   "outputs": [
    {
     "data": {
      "text/plain": [
       "'I am Very% GOOD girl'"
      ]
     },
     "execution_count": 42,
     "metadata": {},
     "output_type": "execute_result"
    }
   ],
   "source": [
    "x.strip(\"%\")"
   ]
  },
  {
   "cell_type": "code",
   "execution_count": 43,
   "id": "0bf147f9",
   "metadata": {},
   "outputs": [
    {
     "data": {
      "text/plain": [
       "'!!!I AM @@!!##MANASA@@@##!!!'"
      ]
     },
     "execution_count": 43,
     "metadata": {},
     "output_type": "execute_result"
    }
   ],
   "source": [
    "x =\" @@##!!!I AM @@!!##MANASA@@@##!!! \"\n",
    "x.strip(\"  @#\")"
   ]
  },
  {
   "cell_type": "code",
   "execution_count": 1,
   "id": "9d32a6b4",
   "metadata": {},
   "outputs": [
    {
     "data": {
      "text/plain": [
       "'M@n@s@'"
      ]
     },
     "execution_count": 1,
     "metadata": {},
     "output_type": "execute_result"
    }
   ],
   "source": [
    "x = \"manasa\"\n",
    "x.replace(\"a\",\"@\").replace(\"m\",\"M\")"
   ]
  },
  {
   "cell_type": "code",
   "execution_count": 1,
   "id": "5c215c96",
   "metadata": {},
   "outputs": [
    {
     "data": {
      "text/plain": [
       "'dolu molu and bolu are friends'"
      ]
     },
     "execution_count": 1,
     "metadata": {},
     "output_type": "execute_result"
    }
   ],
   "source": [
    "x = (\"1 2 and 3 are friends\")\n",
    "x.replace(\"1\",\"dolu\").replace(\"2\",\"molu\").replace(\"3\",\"bolu\")"
   ]
  },
  {
   "cell_type": "code",
   "execution_count": 3,
   "id": "00e55e67",
   "metadata": {},
   "outputs": [],
   "source": [
    "x = (\"1 2 and 3 are friends\")\n",
    "y = x.maketrans(\"123\",\"abc\")\n",
    "\n"
   ]
  },
  {
   "cell_type": "code",
   "execution_count": 4,
   "id": "b07abac9",
   "metadata": {},
   "outputs": [
    {
     "data": {
      "text/plain": [
       "{49: 97, 50: 98, 51: 99}"
      ]
     },
     "execution_count": 4,
     "metadata": {},
     "output_type": "execute_result"
    }
   ],
   "source": [
    "y"
   ]
  },
  {
   "cell_type": "code",
   "execution_count": 5,
   "id": "bb903774",
   "metadata": {},
   "outputs": [
    {
     "data": {
      "text/plain": [
       "'a b and c are friends'"
      ]
     },
     "execution_count": 5,
     "metadata": {},
     "output_type": "execute_result"
    }
   ],
   "source": [
    "x.translate(y)"
   ]
  },
  {
   "cell_type": "code",
   "execution_count": 13,
   "id": "f1e73cf6",
   "metadata": {},
   "outputs": [
    {
     "data": {
      "text/plain": [
       "True"
      ]
     },
     "execution_count": 13,
     "metadata": {},
     "output_type": "execute_result"
    }
   ],
   "source": [
    "x= \"hi world\"\n",
    "x.endswith(\"world\")"
   ]
  },
  {
   "cell_type": "code",
   "execution_count": null,
   "id": "9ee28e5e",
   "metadata": {},
   "outputs": [],
   "source": []
  }
 ],
 "metadata": {
  "kernelspec": {
   "display_name": "Python 3 (ipykernel)",
   "language": "python",
   "name": "python3"
  },
  "language_info": {
   "codemirror_mode": {
    "name": "ipython",
    "version": 3
   },
   "file_extension": ".py",
   "mimetype": "text/x-python",
   "name": "python",
   "nbconvert_exporter": "python",
   "pygments_lexer": "ipython3",
   "version": "3.10.9"
  }
 },
 "nbformat": 4,
 "nbformat_minor": 5
}
